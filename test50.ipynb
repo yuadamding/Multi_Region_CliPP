{
 "cells": [
  {
   "cell_type": "code",
   "execution_count": 1,
   "metadata": {},
   "outputs": [],
   "source": [
    "from snv import *\n",
    "import pandas as pd\n",
    "from helper import *\n",
    "import ray\n",
    "# File path\n",
    "file_path = '/Users/yuding/Dropbox/GitHub/Multi_Region_CliPP/multi_clipp_simulation_data/simulation_data_cluster_3_region_1_read_depth_100_replica_2.tsv'\n",
    "\n",
    "# Read the data into a DataFrame\n",
    "df = pd.read_csv(file_path, sep='\\t')\n",
    "rho = 0.8\n",
    "omega = 1\n",
    "n = df.shape[0]\n",
    "m = 1\n",
    "gamma_list = [0.01, 0.03, 0.05, 0.075, 0.1, 0.125, 0.15, 0.175, 0.2, 0.225, 0.25]\n",
    "control_large = 5\n",
    "precision = 0.01\n",
    "max_iteration = 10000"
   ]
  },
  {
   "cell_type": "code",
   "execution_count": 2,
   "metadata": {},
   "outputs": [
    {
     "name": "stderr",
     "output_type": "stream",
     "text": [
      "2025-03-10 02:40:22,385\tINFO worker.py:1786 -- Started a local Ray instance.\n"
     ]
    },
    {
     "name": "stdout",
     "output_type": "stream",
     "text": [
      " 1 , 1.40625 pid=18839)\u001b[0m \n",
      " 17 , 0.03638920781090649\u001b[32m [repeated 181x across cluster] (Ray deduplicates logs by default. Set RAY_DEDUP_LOGS=0 to disable log deduplication, or see https://docs.ray.io/en/master/ray-observability/user-guides/configure-logging.html#log-deduplication for more options.)\u001b[0m\n",
      " 35 , 0.011575625875468454\u001b[32m [repeated 160x across cluster]\u001b[0m\n",
      " 53 , 0.01532853107069565\u001b[32m [repeated 109x across cluster]\u001b[0m\n",
      " 56 , 0.010134263965137613\u001b[32m [repeated 12x across cluster]\u001b[0m\n"
     ]
    }
   ],
   "source": [
    "ray.shutdown()\n",
    "ray.init()\n",
    "res = [CliPP2.remote(df, rho, gamma_list[i], omega, n, m) for i in range(len(gamma_list))]\n",
    "res = ray.get(res)\n",
    "ray.shutdown()\n"
   ]
  },
  {
   "cell_type": "code",
   "execution_count": 21,
   "metadata": {},
   "outputs": [
    {
     "name": "stdout",
     "output_type": "stream",
     "text": [
      "81\n",
      "81\n",
      "81\n",
      "81\n",
      "80\n",
      "81\n",
      "81\n",
      "7\n",
      "0\n",
      "0\n",
      "0\n"
     ]
    }
   ],
   "source": [
    "for i in range(len(gamma_list)):\n",
    "    clip2_res = res[i]['label']\n",
    "    clip_res = pd.read_csv(f'/Users/yuding/Dropbox/MDA/Subclonal Reconstruction/CliPP-1.2.1/sample_id/final_result/mutation_assignments_lam{gamma_list[i]}.txt', sep='\\t')\n",
    "    print(sum(clip_res['cluster_index'] + clip2_res != 1))\n",
    "    \n",
    "    \n",
    "    "
   ]
  },
  {
   "cell_type": "code",
   "execution_count": 24,
   "metadata": {},
   "outputs": [],
   "source": [
    "i = 0\n",
    "clip2_res = res[i]['label']\n",
    "clip_res = pd.read_csv(f'/Users/yuding/Dropbox/MDA/Subclonal Reconstruction/CliPP-1.2.1/sample_id/final_result/mutation_assignments_lam{gamma_list[i]}.txt', sep='\\t')\n",
    "clip_res['clip2_res'] = clip2_res"
   ]
  },
  {
   "cell_type": "code",
   "execution_count": null,
   "metadata": {},
   "outputs": [],
   "source": []
  }
 ],
 "metadata": {
  "kernelspec": {
   "display_name": "ml1",
   "language": "python",
   "name": "python3"
  },
  "language_info": {
   "codemirror_mode": {
    "name": "ipython",
    "version": 3
   },
   "file_extension": ".py",
   "mimetype": "text/x-python",
   "name": "python",
   "nbconvert_exporter": "python",
   "pygments_lexer": "ipython3",
   "version": "3.12.7"
  }
 },
 "nbformat": 4,
 "nbformat_minor": 2
}
