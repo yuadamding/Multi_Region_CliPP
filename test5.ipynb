{
 "cells": [
  {
   "cell_type": "code",
   "execution_count": 1,
   "metadata": {},
   "outputs": [],
   "source": [
    "from snv4 import *\n",
    "import pandas as pd\n",
    "from sklearn.metrics import rand_score\n"
   ]
  },
  {
   "cell_type": "code",
   "execution_count": null,
   "metadata": {},
   "outputs": [
    {
     "name": "stderr",
     "output_type": "stream",
     "text": [
      "2024-12-02 14:10:51,812\tINFO worker.py:1786 -- Started a local Ray instance.\n"
     ]
    },
    {
     "name": "stdout",
     "output_type": "stream",
     "text": [
      "\u001b[36m(ADMM pid=67106)\u001b[0m Iteration 1, Objective Function: 163653.4371394746\n",
      "\u001b[36m(ADMM pid=67098)\u001b[0m Iteration 3, Objective Function: 51665.529425812776\u001b[32m [repeated 28x across cluster]\u001b[0m\n",
      "\u001b[36m(ADMM pid=67098)\u001b[0m Iteration 5, Objective Function: 51427.5586181047\u001b[32m [repeated 28x across cluster]\u001b[0m\n",
      "\u001b[36m(ADMM pid=67098)\u001b[0m Iteration 7, Objective Function: 51552.71637703176\u001b[32m [repeated 28x across cluster]\u001b[0m\n",
      "\u001b[36m(ADMM pid=67098)\u001b[0m Iteration 9, Objective Function: 51604.338098548564\u001b[32m [repeated 28x across cluster]\u001b[0m\n",
      "\u001b[36m(ADMM pid=67105)\u001b[0m Iteration 11, Objective Function: 50849.59755193623\u001b[32m [repeated 28x across cluster]\u001b[0m\n",
      "\u001b[36m(ADMM pid=67105)\u001b[0m Iteration 13, Objective Function: 50857.77630603765\u001b[32m [repeated 28x across cluster]\u001b[0m\n",
      "\u001b[36m(ADMM pid=67105)\u001b[0m Iteration 15, Objective Function: 50862.33533750907\u001b[32m [repeated 28x across cluster]\u001b[0m\n",
      "\u001b[36m(ADMM pid=67101)\u001b[0m Iteration 17, Objective Function: 52235.31780871132\u001b[32m [repeated 28x across cluster]\u001b[0m\n",
      "\u001b[36m(ADMM pid=67101)\u001b[0m Iteration 19, Objective Function: 52235.3178080925\u001b[32m [repeated 28x across cluster]\u001b[0m\n",
      "\u001b[36m(ADMM pid=67106)\u001b[0m Gamma: 0.8500000000000001, clusters : dict_values([0, 0, 0, 0, 0, 0, 0, 0, 0, 0, 0, 0, 0, 0, 0, 0, 0, 0, 0, 0, 0, 0, 0, 0, 0, 0, 0, 0, 0, 0, 0, 0, 0, 0, 0, 0, 0, 0, 0, 0, 0, 0, 0, 0, 0, 0, 0, 0, 0, 0, 0, 0, 0, 0, 0, 0, 0, 0, 0, 0, 0, 0, 0, 0, 0, 0, 0, 0, 0, 0, 0, 0, 0, 0, 0, 0, 0, 0, 0, 0, 0, 0, 0, 0, 0, 0, 0, 0, 0, 0, 0, 0, 0, 0, 0, 0, 0, 0, 0, 0, 0, 0, 0, 0, 0, 0, 0, 0, 0, 0, 0, 0, 0, 0, 0, 0, 0, 0, 0, 0, 0, 0, 0, 0, 0, 0, 0, 0, 0, 0, 0, 0, 0, 0, 0, 0, 0, 0, 0, 0, 0, 0, 0, 0, 0, 0, 0, 0, 0, 0, 0, 0, 0, 0, 0, 0, 0, 0, 0, 0, 0, 0, 0, 0, 0, 0, 0, 0, 0, 0, 0, 0, 0, 0, 0, 0, 0, 0, 0, 0, 0, 0, 0, 0, 0, 0, 0, 0, 0, 0, 0, 0, 0, 0, 0, 0, 0, 0, 0, 0])\n",
      "\u001b[36m(ADMM pid=67104)\u001b[0m Iteration 20, Objective Function: 52235.32006905227\u001b[32m [repeated 27x across cluster]\u001b[0m\n",
      "\u001b[36m(ADMM pid=67104)\u001b[0m Gamma: 0.55, clusters : dict_values([0, 1, 1, 1, 0, 5, 5, 7, 7, 9, 7, 9, 9, 9, 9, 9, 9, 9, 9, 9, 9, 9, 9, 9, 9, 9, 9, 9, 9, 9, 9, 9, 9, 9, 9, 9, 9, 9, 9, 9, 9, 9, 9, 9, 9, 9, 9, 9, 9, 9, 9, 9, 9, 9, 9, 9, 9, 9, 9, 9, 9, 9, 9, 9, 9, 9, 9, 9, 9, 9, 9, 9, 9, 9, 9, 9, 9, 9, 9, 9, 9, 9, 9, 9, 9, 9, 9, 9, 9, 9, 9, 9, 9, 9, 9, 9, 9, 9, 9, 9, 9, 9, 9, 9, 9, 9, 9, 9, 9, 9, 9, 9, 9, 9, 9, 9, 9, 9, 9, 9, 120, 120, 120, 120, 120, 120, 120, 120, 120, 120, 120, 120, 120, 120, 120, 120, 120, 120, 120, 120, 120, 120, 120, 120, 120, 120, 120, 120, 120, 120, 9, 9, 9, 9, 9, 9, 156, 9, 9, 159, 9, 159, 159, 9, 9, 9, 159, 159, 159, 159, 159, 159, 159, 159, 159, 159, 159, 159, 159, 159, 159, 159, 159, 159, 159, 159, 159, 159, 159, 159, 159, 159, 159, 159, 159, 159, 159, 159, 159, 159])\u001b[32m [repeated 13x across cluster]\u001b[0m\n",
      "\u001b[36m(ADMM pid=67101)\u001b[0m Iteration 3, Objective Function: 52696.01054136724\u001b[32m [repeated 15x across cluster]\u001b[0m\n",
      "\u001b[36m(ADMM pid=67106)\u001b[0m Iteration 6, Objective Function: 52252.24755397233\u001b[32m [repeated 16x across cluster]\u001b[0m\n",
      "\u001b[36m(ADMM pid=67106)\u001b[0m Iteration 9, Objective Function: 52235.306095124826\u001b[32m [repeated 18x across cluster]\u001b[0m\n",
      "\u001b[36m(ADMM pid=67106)\u001b[0m Iteration 12, Objective Function: 52235.31802316572\u001b[32m [repeated 18x across cluster]\u001b[0m\n",
      "\u001b[36m(ADMM pid=67106)\u001b[0m Iteration 15, Objective Function: 52235.31780862444\u001b[32m [repeated 18x across cluster]\u001b[0m\n",
      "\u001b[36m(ADMM pid=67106)\u001b[0m Iteration 18, Objective Function: 52235.31780808904\u001b[32m [repeated 18x across cluster]\u001b[0m\n",
      "\u001b[36m(ADMM pid=67106)\u001b[0m Gamma: 1.1, clusters : dict_values([0, 0, 0, 0, 0, 0, 0, 0, 0, 0, 0, 0, 0, 0, 0, 0, 0, 0, 0, 0, 0, 0, 0, 0, 0, 0, 0, 0, 0, 0, 0, 0, 0, 0, 0, 0, 0, 0, 0, 0, 0, 0, 0, 0, 0, 0, 0, 0, 0, 0, 0, 0, 0, 0, 0, 0, 0, 0, 0, 0, 0, 0, 0, 0, 0, 0, 0, 0, 0, 0, 0, 0, 0, 0, 0, 0, 0, 0, 0, 0, 0, 0, 0, 0, 0, 0, 0, 0, 0, 0, 0, 0, 0, 0, 0, 0, 0, 0, 0, 0, 0, 0, 0, 0, 0, 0, 0, 0, 0, 0, 0, 0, 0, 0, 0, 0, 0, 0, 0, 0, 0, 0, 0, 0, 0, 0, 0, 0, 0, 0, 0, 0, 0, 0, 0, 0, 0, 0, 0, 0, 0, 0, 0, 0, 0, 0, 0, 0, 0, 0, 0, 0, 0, 0, 0, 0, 0, 0, 0, 0, 0, 0, 0, 0, 0, 0, 0, 0, 0, 0, 0, 0, 0, 0, 0, 0, 0, 0, 0, 0, 0, 0, 0, 0, 0, 0, 0, 0, 0, 0, 0, 0, 0, 0, 0, 0, 0, 0, 0, 0])\n",
      "\u001b[36m(ADMM pid=67095)\u001b[0m Iteration 20, Objective Function: 52235.31780809047\u001b[32m [repeated 17x across cluster]\u001b[0m\n",
      "\u001b[36m(ADMM pid=67105)\u001b[0m Gamma: 1.0, clusters : dict_values([0, 0, 0, 0, 0, 0, 0, 0, 0, 0, 0, 0, 0, 0, 0, 0, 0, 0, 0, 0, 0, 0, 0, 0, 0, 0, 0, 0, 0, 0, 0, 0, 0, 0, 0, 0, 0, 0, 0, 0, 0, 0, 0, 0, 0, 0, 0, 0, 0, 0, 0, 0, 0, 0, 0, 0, 0, 0, 0, 0, 0, 0, 0, 0, 0, 0, 0, 0, 0, 0, 0, 0, 0, 0, 0, 0, 0, 0, 0, 0, 0, 0, 0, 0, 0, 0, 0, 0, 0, 0, 0, 0, 0, 0, 0, 0, 0, 0, 0, 0, 0, 0, 0, 0, 0, 0, 0, 0, 0, 0, 0, 0, 0, 0, 0, 0, 0, 0, 0, 0, 0, 0, 0, 0, 0, 0, 0, 0, 0, 0, 0, 0, 0, 0, 0, 0, 0, 0, 0, 0, 0, 0, 0, 0, 0, 0, 0, 0, 0, 0, 0, 0, 0, 0, 0, 0, 0, 0, 0, 0, 0, 0, 0, 0, 0, 0, 0, 0, 0, 0, 0, 0, 0, 0, 0, 0, 0, 0, 0, 0, 0, 0, 0, 0, 0, 0, 0, 0, 0, 0, 0, 0, 0, 0, 0, 0, 0, 0, 0, 0])\u001b[32m [repeated 4x across cluster]\u001b[0m\n",
      "0.764070351758794\n",
      "0.7756281407035176\n",
      "0.7835678391959799\n",
      "0.8137688442211055\n",
      "0.8486934673366834\n",
      "0.6658291457286433\n",
      "0.24623115577889448\n",
      "0.24623115577889448\n",
      "0.24623115577889448\n",
      "0.24623115577889448\n",
      "0.24623115577889448\n",
      "0.24623115577889448\n",
      "0.24623115577889448\n",
      "0.24623115577889448\n",
      "0.24623115577889448\n",
      "0.24623115577889448\n",
      "0.24623115577889448\n",
      "0.24623115577889448\n",
      "0.24623115577889448\n",
      "0.24623115577889448\n"
     ]
    }
   ],
   "source": [
    "df = pd.read_csv('test4.tsv', sep = '\\t')\n",
    "n = 400\n",
    "m = 4\n",
    "df = df.iloc[0:(n * m), :]\n",
    "rho = 0.2\n",
    "omega = 1\n",
    "max_iteration = 20\n",
    "\n",
    "# res = ADMM(df, rho, 0.25, omega, n, m, max_iteration)\n",
    "\n",
    "gamma = [0.3+ 0.05 * i for i in range(14)]\n",
    "ray.shutdown()\n",
    "ray.init()\n",
    "res = [ADMM.remote(df, rho, gamma[i], omega, n, m, max_iteration)[3] for i in range(20)]\n",
    "res = ray.get(res)\n",
    "ray.shutdown()\n",
    "\n",
    "cluster = [1] * 50  + [2] * 50 + [3] * 50 + [4] * 50\n",
    "for i in range(14):\n",
    "    print(rand_score(res[i][4], cluster))\n"
   ]
  },
  {
   "cell_type": "code",
   "execution_count": null,
   "metadata": {},
   "outputs": [],
   "source": []
  },
  {
   "cell_type": "code",
   "execution_count": null,
   "metadata": {},
   "outputs": [],
   "source": []
  },
  {
   "cell_type": "code",
   "execution_count": null,
   "metadata": {},
   "outputs": [],
   "source": []
  },
  {
   "cell_type": "code",
   "execution_count": null,
   "metadata": {},
   "outputs": [],
   "source": []
  },
  {
   "cell_type": "code",
   "execution_count": null,
   "metadata": {},
   "outputs": [],
   "source": []
  },
  {
   "cell_type": "code",
   "execution_count": null,
   "metadata": {},
   "outputs": [],
   "source": []
  },
  {
   "cell_type": "code",
   "execution_count": null,
   "metadata": {},
   "outputs": [],
   "source": []
  },
  {
   "cell_type": "code",
   "execution_count": null,
   "metadata": {},
   "outputs": [],
   "source": []
  },
  {
   "cell_type": "code",
   "execution_count": null,
   "metadata": {},
   "outputs": [],
   "source": []
  },
  {
   "cell_type": "code",
   "execution_count": 19,
   "metadata": {},
   "outputs": [
    {
     "name": "stderr",
     "output_type": "stream",
     "text": [
      "2024-12-02 14:10:02,006\tINFO worker.py:1786 -- Started a local Ray instance.\n"
     ]
    },
    {
     "name": "stdout",
     "output_type": "stream",
     "text": [
      "\u001b[36m(ADMM pid=66938)\u001b[0m Iteration 1, Objective Function: 117564.8016370347\n",
      "\u001b[36m(ADMM pid=66938)\u001b[0m Iteration 10, Objective Function: 24770.929683492184\u001b[32m [repeated 131x across cluster]\u001b[0m\n",
      "\u001b[36m(ADMM pid=66930)\u001b[0m Iteration 19, Objective Function: 24103.3620354594\u001b[32m [repeated 133x across cluster]\u001b[0m\n",
      "\u001b[36m(ADMM pid=66929)\u001b[0m Gamma: 0.25, clusters : dict_values([0, 1, 2, 3, 4, 5, 6, 7, 8, 9, 10, 11, 12, 13, 14, 15, 16, 17, 18, 19, 20, 21, 22, 23, 24, 25, 26, 27, 28, 29, 30, 31, 32, 33, 34, 35, 36, 37, 38, 39, 40, 41, 42, 43, 44, 45, 46, 47, 48, 49, 50, 51, 52, 53, 54, 55, 56, 57, 58, 59, 60, 61, 62, 63, 64, 65, 66, 67, 68, 69, 70, 71, 72, 73, 74, 75, 76, 77, 78, 79, 80, 81, 82, 83, 84, 85, 86, 87, 88, 89, 90, 91, 92, 93, 94, 95, 96, 97, 98, 99])\n",
      "\u001b[36m(ADMM pid=66942)\u001b[0m Iteration 11, Objective Function: 24550.03419069552\u001b[32m [repeated 76x across cluster]\u001b[0m\n",
      "\u001b[36m(ADMM pid=66937)\u001b[0m Gamma: 0.35, clusters : dict_values([0, 1, 2, 3, 4, 5, 6, 7, 8, 9, 10, 11, 12, 13, 14, 15, 16, 17, 18, 19, 20, 21, 22, 23, 24, 25, 26, 27, 28, 29, 30, 31, 32, 33, 34, 35, 36, 37, 38, 39, 40, 41, 42, 43, 44, 45, 46, 47, 48, 49, 50, 51, 52, 53, 54, 55, 56, 57, 58, 59, 60, 61, 62, 63, 64, 65, 66, 67, 68, 69, 70, 71, 72, 73, 74, 75, 76, 77, 78, 79, 80, 81, 82, 83, 84, 85, 86, 87, 88, 89, 90, 91, 92, 93, 94, 95, 96, 97, 98, 99])\u001b[32m [repeated 13x across cluster]\u001b[0m\n",
      "\u001b[36m(ADMM pid=66934)\u001b[0m Iteration 20, Objective Function: 24111.759168198514\u001b[32m [repeated 59x across cluster]\u001b[0m\n",
      "\u001b[36m(ADMM pid=66941)\u001b[0m Gamma: 1.05, clusters : dict_values([0, 0, 0, 0, 0, 0, 0, 0, 0, 0, 0, 0, 0, 0, 0, 0, 0, 0, 0, 0, 0, 0, 0, 0, 0, 0, 0, 0, 0, 0, 0, 0, 0, 0, 34, 0, 0, 0, 0, 0, 0, 0, 0, 0, 0, 0, 0, 0, 0, 0, 0, 0, 0, 0, 0, 0, 0, 0, 0, 0, 0, 0, 0, 0, 0, 0, 0, 0, 0, 0, 0, 0, 0, 0, 0, 0, 0, 0, 0, 0, 0, 0, 0, 0, 0, 0, 0, 0, 0, 0, 0, 0, 0, 0, 0, 0, 0, 0, 0, 0])\u001b[32m [repeated 5x across cluster]\u001b[0m\n",
      "0.7466666666666667\n",
      "0.7466666666666667\n",
      "0.7466666666666667\n",
      "0.7466666666666667\n",
      "0.7466666666666667\n",
      "0.7466666666666667\n",
      "0.7466666666666667\n",
      "0.7466666666666667\n",
      "0.7466666666666667\n",
      "0.7466666666666667\n",
      "0.7468686868686869\n",
      "0.7468686868686869\n",
      "0.7470707070707071\n",
      "0.7470707070707071\n",
      "0.7416161616161616\n",
      "0.4208080808080808\n",
      "0.3529292929292929\n",
      "0.30343434343434345\n",
      "0.2733333333333333\n",
      "0.2733333333333333\n"
     ]
    }
   ],
   "source": [
    "df = pd.read_csv('synthetic.tsv', sep = '\\t')\n",
    "n = 100\n",
    "m = 4\n",
    "rho = 5\n",
    "omega = 1\n",
    "max_iteration = 20\n",
    "\n",
    "clusters = [df.cluster[m * i] for i in range(n)]\n",
    "\n",
    "gamma = [0.1+ 0.05 * i for i in range(20)]\n",
    "ray.shutdown()\n",
    "ray.init()\n",
    "res = [ADMM.remote(df, rho, gamma[i], omega, n, m, max_iteration)[3] for i in range(20)]\n",
    "res = ray.get(res)\n",
    "ray.shutdown()\n",
    "\n",
    "for i in range(20):\n",
    "    print(rand_score(res[i][4], clusters))"
   ]
  },
  {
   "cell_type": "code",
   "execution_count": null,
   "metadata": {},
   "outputs": [],
   "source": []
  },
  {
   "cell_type": "code",
   "execution_count": null,
   "metadata": {},
   "outputs": [],
   "source": []
  },
  {
   "cell_type": "code",
   "execution_count": null,
   "metadata": {},
   "outputs": [],
   "source": []
  },
  {
   "cell_type": "code",
   "execution_count": null,
   "metadata": {},
   "outputs": [],
   "source": []
  },
  {
   "cell_type": "code",
   "execution_count": null,
   "metadata": {},
   "outputs": [],
   "source": []
  },
  {
   "cell_type": "code",
   "execution_count": null,
   "metadata": {},
   "outputs": [],
   "source": []
  },
  {
   "cell_type": "code",
   "execution_count": null,
   "metadata": {},
   "outputs": [],
   "source": []
  },
  {
   "cell_type": "code",
   "execution_count": 21,
   "metadata": {},
   "outputs": [],
   "source": [
    "# Example usage\n",
    "from data_generator import generate_data\n",
    "df1 = generate_data(n=100, m=4, cp=[0.99, 0.99, 0.99, 0.99], cluster=1)\n",
    "df2 = generate_data(n=100, m=4, cp=[0.99, 0.01, 0.01, 0.99], cluster=2)\n",
    "df3 = generate_data(n=100, m=4, cp=[0.99, 0.01, 0.99, 0.01], cluster=3)\n",
    "df4 = generate_data(n=100, m=4, cp=[0.1, 0.99, 0.01, 0.99], cluster=4)\n",
    "\n",
    "combined_df = pd.concat([df1, df2, df3, df4], axis=0)\n",
    "combined_df.to_csv('test4.tsv', sep='\\t', index=False)"
   ]
  },
  {
   "cell_type": "code",
   "execution_count": null,
   "metadata": {},
   "outputs": [],
   "source": []
  }
 ],
 "metadata": {
  "kernelspec": {
   "display_name": "ml1",
   "language": "python",
   "name": "python3"
  },
  "language_info": {
   "codemirror_mode": {
    "name": "ipython",
    "version": 3
   },
   "file_extension": ".py",
   "mimetype": "text/x-python",
   "name": "python",
   "nbconvert_exporter": "python",
   "pygments_lexer": "ipython3",
   "version": "3.12.7"
  }
 },
 "nbformat": 4,
 "nbformat_minor": 2
}
