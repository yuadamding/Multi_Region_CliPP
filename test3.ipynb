{
 "cells": [
  {
   "cell_type": "code",
   "execution_count": 10,
   "metadata": {},
   "outputs": [],
   "source": [
    "from snv import *\n",
    "import os\n",
    "import glob\n",
    "import pandas as pd\n",
    "from helper import *\n"
   ]
  },
  {
   "cell_type": "code",
   "execution_count": 14,
   "metadata": {},
   "outputs": [
    {
     "name": "stdout",
     "output_type": "stream",
     "text": [
      "Running preprocessing...\n",
      "Preprocessing finished.\n",
      "Running the main CliPP function...\n",
      "Lambda: 0.01\titeration: 9\tresidual: 0.0129391\n",
      "Lambda: 0.03\titeration: 23\tresidual: 0.0131423\n",
      "Lambda: 0.05\titeration: 26\tresidual: 0.0124058\n",
      "Lambda: 0.075\titeration: 32\tresidual: 0.0105347\n",
      "Lambda: 0.1\titeration: 43\tresidual: 0.0131909\n",
      "Lambda: 0.125\titeration: 43\tresidual: 0.0111295\n",
      "Lambda: 0.15\titeration: 53\tresidual: 0.0100425\n",
      "Lambda: 0.175\titeration: 41\tresidual: 0.0180987\n",
      "Lambda: 0.2\titeration: 37\tresidual: 0.0105899\n",
      "Lambda: 0.225\titeration: 35\tresidual: 0.0100559\n",
      "Lambda: 0.25\titeration: 30\tresidual: 0.0135844\n",
      "Lambda: 0.275\titeration: 30\tresidual: 0.0132797\n",
      "Lambda: 0.3\titeration: 35\tresidual: 0.0137375\n",
      "Lambda: 0.325\titeration: 31\tresidual: 0.0191187\n",
      "Lambda: 0.35\titeration: 32\tresidual: 0.0157371\n",
      "Lambda: 0.375\titeration: 30\tresidual: 0.0153284\n",
      "Lambda: 0.4\titeration: 29\tresidual: 0.0113818\n",
      "Lambda: 0.425\titeration: 27\tresidual: 0.0141906\n",
      "Lambda: 0.45\titeration: 26\tresidual: 0.0151759\n",
      "Lambda: 0.475\titeration: 25\tresidual: 0.0197999\n",
      "Lambda: 0.5\titeration: 25\tresidual: 0.0149633\n",
      "Lambda: 0.6\titeration: 25\tresidual: 0.0160866\n",
      "Lambda: 0.7\titeration: 24\tresidual: 0.0129547\n",
      "Lambda: 0.8\titeration: 11\tresidual: 0.0210615\n",
      "Lambda: 0.9\titeration: 10\tresidual: 0.0176901\n",
      "Lambda: 1\titeration: 9\tresidual: 0.0227303\n",
      "Lambda: 1.1\titeration: 9\tresidual: 0.0181747\n",
      "Lambda: 1.2\titeration: 9\tresidual: 0.0102042\n",
      "Lambda: 1.3\titeration: 8\tresidual: 0.0291759\n",
      "Lambda: 1.4\titeration: 8\tresidual: 0.0294474\n",
      "Lambda: 1.5\titeration: 8\tresidual: 0.0194327\n",
      "\n",
      "Elapsed time: 0.04sec\n",
      "\n"
     ]
    },
    {
     "name": "stderr",
     "output_type": "stream",
     "text": [
      "2025-01-27 08:29:38,840\tINFO worker.py:1786 -- Started a local Ray instance.\n"
     ]
    },
    {
     "name": "stdout",
     "output_type": "stream",
     "text": [
      "\u001b[36m(ADMM pid=75106)\u001b[0m Gamma: 0.1, clusters : dict_values([0, 1, 2, 1, 4, 5, 1, 7, 8, 1, 1, 8, 12, 1, 7, 1, 8, 12, 18, 19, 1, 12, 1, 1, 8, 25, 1, 4, 4, 1, 1, 1, 5, 1, 34, 35, 34, 25, 38, 1, 25, 1, 12, 18, 8, 1, 1, 25, 8, 1, 35, 35, 18, 8, 18, 4, 1, 4, 58, 35, 4, 61, 25, 25, 8, 8, 4, 4, 1, 1, 25, 18, 8, 18, 18, 1, 1, 25, 1, 25, 8, 25, 8, 25, 4, 25, 86, 25, 86, 25, 25, 18, 4, 25, 25, 95, 25, 25, 25, 0])\n",
      "\u001b[36m(ADMM pid=75111)\u001b[0m Gamma: 0.25, clusters : dict_values([0, 0, 2, 0, 0, 0, 0, 0, 0, 0, 0, 0, 0, 0, 0, 0, 0, 0, 0, 0, 0, 0, 0, 0, 0, 0, 0, 0, 0, 0, 0, 0, 0, 0, 0, 0, 0, 0, 0, 0, 0, 0, 0, 0, 0, 0, 0, 0, 0, 0, 0, 0, 0, 0, 0, 0, 0, 0, 0, 0, 0, 0, 0, 0, 0, 0, 0, 0, 0, 0, 0, 0, 0, 0, 0, 0, 0, 0, 0, 0, 0, 0, 0, 0, 0, 0, 0, 0, 0, 0, 0, 0, 0, 0, 0, 0, 0, 0, 0, 0])\u001b[32m [repeated 3x across cluster]\u001b[0m\n"
     ]
    }
   ],
   "source": [
    "!python clipp_data_simulation.py\n",
    "df = pd.read_csv('/Users/yuding/Dropbox/GitHub/Multi_Region_CliPP/multi_clipp_simulation_data/simulation_data_cluster_5_region_1_read_depth_100_replica_2.tsv', sep='\\t')\n",
    "true_clonal_fraction = df['cluster'].value_counts(normalize=True)[0]\n",
    "true_cp = df['cp'].to_list()\n",
    "true_num_clusters = len(df['cluster'].unique())\n",
    "\n",
    "df1 = df[['mutation', 'ref_counts', 'alt_counts']].copy()\n",
    "df1['alt_counts'] = df1['alt_counts'].replace(0, 1)\n",
    "df1['mutation'] = [1 for i in range(1, len(df1) + 1)]\n",
    "df1.rename(columns={\n",
    "    'ref_counts': 'ref_count',\n",
    "    'alt_counts': 'alt_count'\n",
    "}, inplace=True)\n",
    "df1.rename(columns={'mutation': 'chromosome_index'}, inplace=True)\n",
    "df1['position'] = [5 * i + 2 for i in range(1, len(df1) + 1)]\n",
    "df1 = df1[['chromosome_index', 'position', 'alt_count', 'ref_count']]\n",
    "df1.to_csv('sample_snv.txt', sep='\\t', index=False)\n",
    "\n",
    "# Create df2 with mutation, major_cn, minor_cn, and sum_cn\n",
    "df2 = df[['mutation', 'major_cn', 'minor_cn']].copy()\n",
    "df2['mutation'] =[1 for i in range(1, len(df2) + 1)]\n",
    "df2['total_cn'] = df2['major_cn'] + df2['minor_cn']\n",
    "df2.rename(columns={'mutation': 'chromosome_index'}, inplace=True)\n",
    "df2['start_position'] = [5 * i + 1 for i in range(1, len(df2) + 1)]\n",
    "df2['end_position'] = [5 * i + 4 for i in range(1, len(df2) + 1)]\n",
    "df2 = df2[['chromosome_index', 'start_position', 'end_position', 'major_cn', 'minor_cn', 'total_cn']]\n",
    "\n",
    "df2.to_csv('sample_cna.txt', sep='\\t', index=False)\n",
    "\n",
    "# Get the first element of the 'tumour_purity' column\n",
    "purity = df['tumour_purity'].iloc[0]\n",
    "\n",
    "# Open a file in write mode and save the number\n",
    "with open('sample_purity.txt', 'w') as file:\n",
    "    file.write(str(purity))\n",
    "    \n",
    "!python /Users/yuding/Dropbox/MDA/\"Subclonal Reconstruction\"/\"3D tumor simulation\"/VirtualTumorEvolution-master/CliPP/run_clipp_main.py -i test sample_snv.txt sample_cna.txt sample_purity.txt\n",
    "\n",
    "df = pd.read_csv('/Users/yuding/Dropbox/GitHub/Multi_Region_CliPP/multi_clipp_simulation_data/simulation_data_cluster_5_region_1_read_depth_100_replica_2.tsv', sep='\\t')\n",
    "rho = 0.2\n",
    "omega = 1\n",
    "n = df.shape[0]\n",
    "m = 1\n",
    "max_iteration = 20\n",
    "gamma = [0.01, 0.03, 0.05, 0.075, 0.1, 0.125, 0.15, 0.175, 0.2, 0.225, 0.25]\n",
    "ray.shutdown()\n",
    "ray.init(ignore_reinit_error=True)\n",
    "res0 = [ADMM.remote(df, rho, gamma[i], omega, n, m, max_iteration) for i in range(len(gamma))]\n",
    "res0 = ray.get(res0)\n",
    "ray.shutdown()\n",
    "estimated_cp = [i for [i] in convert_p_to_cp(res0[0][0], n, m).tolist()]\n",
    "estimated_num_clusters = len(np.unique(res0[0][0]))\n",
    "df_res = pd.DataFrame(\n",
    "        {'cluster_index': res0[0][0],\n",
    "        'cp' : estimated_cp\n",
    "        }\n",
    "    )\n",
    "df = pd.read_csv('/Users/yuding/Dropbox/MDA/Subclonal Reconstruction/3D tumor simulation/VirtualTumorEvolution-master/CliPP/test/preliminary_result/lam0.01_phi.txt', delimiter='\\t', header=None)  # Use delimiter='\\t' for tab-separated values\n",
    "\n",
    "temp = df_res['cp'].to_numpy() - np.reshape(df[:].to_numpy(), (100))\n",
    "rmse = np.sqrt(np.matmul(temp.T, temp) / 100)\n",
    "\n",
    "shutil.rmtree('/Users/yuding/Dropbox/MDA/Subclonal Reconstruction/3D tumor simulation/VirtualTumorEvolution-master/CliPP/test')\n",
    "\n",
    "\n"
   ]
  },
  {
   "cell_type": "code",
   "execution_count": 15,
   "metadata": {},
   "outputs": [
    {
     "data": {
      "text/plain": [
       "0.02529512749389105"
      ]
     },
     "execution_count": 15,
     "metadata": {},
     "output_type": "execute_result"
    }
   ],
   "source": [
    "rmse"
   ]
  },
  {
   "cell_type": "code",
   "execution_count": 16,
   "metadata": {},
   "outputs": [
    {
     "data": {
      "text/html": [
       "<div>\n",
       "<style scoped>\n",
       "    .dataframe tbody tr th:only-of-type {\n",
       "        vertical-align: middle;\n",
       "    }\n",
       "\n",
       "    .dataframe tbody tr th {\n",
       "        vertical-align: top;\n",
       "    }\n",
       "\n",
       "    .dataframe thead th {\n",
       "        text-align: right;\n",
       "    }\n",
       "</style>\n",
       "<table border=\"1\" class=\"dataframe\">\n",
       "  <thead>\n",
       "    <tr style=\"text-align: right;\">\n",
       "      <th></th>\n",
       "      <th>0</th>\n",
       "    </tr>\n",
       "  </thead>\n",
       "  <tbody>\n",
       "    <tr>\n",
       "      <th>0</th>\n",
       "      <td>0.507</td>\n",
       "    </tr>\n",
       "    <tr>\n",
       "      <th>1</th>\n",
       "      <td>0.026</td>\n",
       "    </tr>\n",
       "    <tr>\n",
       "      <th>2</th>\n",
       "      <td>0.648</td>\n",
       "    </tr>\n",
       "    <tr>\n",
       "      <th>3</th>\n",
       "      <td>0.102</td>\n",
       "    </tr>\n",
       "    <tr>\n",
       "      <th>4</th>\n",
       "      <td>0.648</td>\n",
       "    </tr>\n",
       "    <tr>\n",
       "      <th>...</th>\n",
       "      <td>...</td>\n",
       "    </tr>\n",
       "    <tr>\n",
       "      <th>95</th>\n",
       "      <td>0.026</td>\n",
       "    </tr>\n",
       "    <tr>\n",
       "      <th>96</th>\n",
       "      <td>0.142</td>\n",
       "    </tr>\n",
       "    <tr>\n",
       "      <th>97</th>\n",
       "      <td>0.203</td>\n",
       "    </tr>\n",
       "    <tr>\n",
       "      <th>98</th>\n",
       "      <td>0.102</td>\n",
       "    </tr>\n",
       "    <tr>\n",
       "      <th>99</th>\n",
       "      <td>0.507</td>\n",
       "    </tr>\n",
       "  </tbody>\n",
       "</table>\n",
       "<p>100 rows × 1 columns</p>\n",
       "</div>"
      ],
      "text/plain": [
       "        0\n",
       "0   0.507\n",
       "1   0.026\n",
       "2   0.648\n",
       "3   0.102\n",
       "4   0.648\n",
       "..    ...\n",
       "95  0.026\n",
       "96  0.142\n",
       "97  0.203\n",
       "98  0.102\n",
       "99  0.507\n",
       "\n",
       "[100 rows x 1 columns]"
      ]
     },
     "execution_count": 16,
     "metadata": {},
     "output_type": "execute_result"
    }
   ],
   "source": [
    "df"
   ]
  },
  {
   "cell_type": "code",
   "execution_count": null,
   "metadata": {},
   "outputs": [],
   "source": []
  }
 ],
 "metadata": {
  "kernelspec": {
   "display_name": "ml1",
   "language": "python",
   "name": "python3"
  },
  "language_info": {
   "codemirror_mode": {
    "name": "ipython",
    "version": 3
   },
   "file_extension": ".py",
   "mimetype": "text/x-python",
   "name": "python",
   "nbconvert_exporter": "python",
   "pygments_lexer": "ipython3",
   "version": "3.12.7"
  }
 },
 "nbformat": 4,
 "nbformat_minor": 2
}
