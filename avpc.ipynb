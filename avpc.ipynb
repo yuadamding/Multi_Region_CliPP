{
 "cells": [
  {
   "cell_type": "code",
   "execution_count": null,
   "id": "8edfe1dd",
   "metadata": {},
   "outputs": [],
   "source": [
    "from clipp2.core_cuda import *\n",
    "from clipp2.preprocess import *"
   ]
  },
  {
   "cell_type": "code",
   "execution_count": 2,
   "id": "8565a161",
   "metadata": {},
   "outputs": [
    {
     "name": "stdout",
     "output_type": "stream",
     "text": [
      "Loaded SNV data from AVPC/ACC9/9-post.snv.txt with shape (3862, 4)\n",
      "Loaded CNA data from AVPC/ACC9/9-post.cna.txt with shape (181, 6)\n",
      "Purity: 0.21\n",
      "Constructed df with shape (3862, 11)\n",
      "Loaded SNV data from AVPC/ACC9/9-pre.snv.txt with shape (5576, 4)\n",
      "Loaded CNA data from AVPC/ACC9/9-pre.cna.txt with shape (277, 6)\n",
      "Purity: 0.31\n",
      "Constructed df with shape (5576, 11)\n",
      "Warning: No match in CNA for row 4290 but found major_cn=3.0 and minor_cn=0.0. Expected defaults 1 and 1.\n",
      "Warning: No match in CNA for row 1836 but found major_cn=3.0 and minor_cn=0.0. Expected defaults 1 and 1.\n",
      "Warning: No match in CNA for row 3650 but found major_cn=2.0 and minor_cn=1.0. Expected defaults 1 and 1.\n",
      "Warning: No match in CNA for row 2894 but found major_cn=3.0 and minor_cn=2.0. Expected defaults 1 and 1.\n",
      "Warning: No match in CNA for row 2479 but found major_cn=2.0 and minor_cn=1.0. Expected defaults 1 and 1.\n"
     ]
    }
   ],
   "source": [
    "df1 = process_files('AVPC/ACC9/9-post.snv.txt', 'AVPC/ACC9/9-post.cna.txt','AVPC/ACC9/9-post.purity.txt')\n",
    "df2 = process_files('AVPC/ACC9/9-pre.snv.txt', 'AVPC/ACC9/9-pre.cna.txt','AVPC/ACC9/9-pre.purity.txt')"
   ]
  },
  {
   "cell_type": "code",
   "execution_count": 3,
   "id": "b2be8458",
   "metadata": {},
   "outputs": [],
   "source": [
    "[df1, df2] = insert_distinct_rows_multi([df1, df2])"
   ]
  },
  {
   "cell_type": "code",
   "execution_count": 4,
   "id": "84036625",
   "metadata": {},
   "outputs": [],
   "source": [
    "export_snv_cna_and_purity(\n",
    "        df1,\n",
    "        dir=\"AVPC/ACC9pre/\",\n",
    "        snv_path=\"9post.snv.txt\",\n",
    "        cna_path=\"9post.cna.txt\",\n",
    "        purity_path=\"9post.purity.txt\"\n",
    "    )\n"
   ]
  },
  {
   "cell_type": "code",
   "execution_count": 5,
   "id": "28b2e5a6",
   "metadata": {},
   "outputs": [],
   "source": [
    "export_snv_cna_and_purity(\n",
    "        df2,\n",
    "        dir=\"AVPC/ACC9pre/\",\n",
    "        snv_path=\"9pre.snv.txt\",\n",
    "        cna_path=\"9pre.cna.txt\",\n",
    "        purity_path=\"9pre.purity.txt\"\n",
    "    )"
   ]
  },
  {
   "cell_type": "code",
   "execution_count": 6,
   "id": "a2e6e668",
   "metadata": {},
   "outputs": [
    {
     "name": "stdout",
     "output_type": "stream",
     "text": [
      "Process done. Created outputs in E:/Dropbox/GitHub/Multi_Region_CliPP/processed_data/acc9post.\n"
     ]
    }
   ],
   "source": [
    "snv_file      = \"AVPC/ACC9pre/9post.snv.txt\"\n",
    "cn_file       = \"AVPC/ACC9pre/9post.cna.txt\"\n",
    "purity_file   = \"AVPC/ACC9pre/9post.purity.txt\"\n",
    "sample_id     = \"--sample_id\"   # not heavily used in logic\n",
    "output_prefix = \"E:/Dropbox/GitHub/Multi_Region_CliPP/processed_data/acc9post\"\n",
    "\n",
    "# Call function with drop_data=True (to replicate R code's dropping logic)\n",
    "process_data(\n",
    "    snv_file, cn_file, purity_file, sample_id, output_prefix, \n",
    "    drop_data=False\n",
    ")"
   ]
  },
  {
   "cell_type": "code",
   "execution_count": 7,
   "id": "9ada4cc8",
   "metadata": {},
   "outputs": [
    {
     "name": "stdout",
     "output_type": "stream",
     "text": [
      "Process done. Created outputs in E:/Dropbox/GitHub/Multi_Region_CliPP/processed_data/acc9pre.\n"
     ]
    },
    {
     "name": "stderr",
     "output_type": "stream",
     "text": [
      "e:\\Dropbox\\GitHub\\Multi_Region_CliPP\\clipp2\\preprocess.py:763: RuntimeWarning: divide by zero encountered in divide\n",
      "  phi_arr = 2.0 / ( (minor_count / (minor_read/total_read)) - total_count + 2.0 )\n"
     ]
    }
   ],
   "source": [
    "snv_file      = \"AVPC/ACC9pre/9pre.snv.txt\"\n",
    "cn_file       = \"AVPC/ACC9pre/9pre.cna.txt\"\n",
    "purity_file   = \"AVPC/ACC9pre/9pre.purity.txt\"\n",
    "sample_id     = \"--sample_id\"   # not heavily used in logic\n",
    "output_prefix = \"E:/Dropbox/GitHub/Multi_Region_CliPP/processed_data/acc9pre\"\n",
    "\n",
    "# Call function with drop_data=True (to replicate R code's dropping logic)\n",
    "process_data(\n",
    "    snv_file, cn_file, purity_file, sample_id, output_prefix, \n",
    "    drop_data=False\n",
    ")"
   ]
  },
  {
   "cell_type": "code",
   "execution_count": null,
   "id": "bbbc85a2",
   "metadata": {},
   "outputs": [
    {
     "name": "stdout",
     "output_type": "stream",
     "text": [
      "Loaded region 'acc9post': r.shape=(5793,), coef.shape=(5793, 6), purity=0.21\n",
      "Loaded region 'acc9pre': r.shape=(5793,), coef.shape=(5793, 6), purity=0.31\n",
      "\n",
      "=== Summary of grouped data before dropping rows ===\n",
      "Found M=2 regions. r shape= (5793, 2), n= (5793, 2)\n",
      "minor= (5793, 2), total= (5793, 2)\n",
      "coef_list length= 2 (each is (No_mutation,6))\n",
      "wcut= [-0.18  1.8 ]\n",
      "\n",
      "Dropped 217 rows that were all-zero in r/n/minor/total/coef.\n",
      "Indices of dropped rows: [5576 5577 5578 5579 5580 5581 5582 5583 5584 5585 5586 5587 5588 5589\n",
      " 5590 5591 5592 5593 5594 5595 5596 5597 5598 5599 5600 5601 5602 5603\n",
      " 5604 5605 5606 5607 5608 5609 5610 5611 5612 5613 5614 5615 5616 5617\n",
      " 5618 5619 5620 5621 5622 5623 5624 5625 5626 5627 5628 5629 5630 5631\n",
      " 5632 5633 5634 5635 5636 5637 5638 5639 5640 5641 5642 5643 5644 5645\n",
      " 5646 5647 5648 5649 5650 5651 5652 5653 5654 5655 5656 5657 5658 5659\n",
      " 5660 5661 5662 5663 5664 5665 5666 5667 5668 5669 5670 5671 5672 5673\n",
      " 5674 5675 5676 5677 5678 5679 5680 5681 5682 5683 5684 5685 5686 5687\n",
      " 5688 5689 5690 5691 5692 5693 5694 5695 5696 5697 5698 5699 5700 5701\n",
      " 5702 5703 5704 5705 5706 5707 5708 5709 5710 5711 5712 5713 5714 5715\n",
      " 5716 5717 5718 5719 5720 5721 5722 5723 5724 5725 5726 5727 5728 5729\n",
      " 5730 5731 5732 5733 5734 5735 5736 5737 5738 5739 5740 5741 5742 5743\n",
      " 5744 5745 5746 5747 5748 5749 5750 5751 5752 5753 5754 5755 5756 5757\n",
      " 5758 5759 5760 5761 5762 5763 5764 5765 5766 5767 5768 5769 5770 5771\n",
      " 5772 5773 5774 5775 5776 5777 5778 5779 5780 5781 5782 5783 5784 5785\n",
      " 5786 5787 5788 5789 5790 5791 5792]\n",
      "\n",
      "=== Summary of grouped data after dropping rows ===\n",
      "r shape= (5576, 2), n= (5576, 2)\n",
      "minor= (5576, 2), total= (5576, 2)\n",
      "coef_list length= 2, each => shape (5576, 6)\n"
     ]
    },
    {
     "name": "stderr",
     "output_type": "stream",
     "text": [
      "e:\\Dropbox\\GitHub\\Multi_Region_CliPP\\clipp2\\core1.py:789: MatrixRankWarning: Matrix is exactly singular\n",
      "  w_new_flat = spsolve(H.tocsr(), linear)\n"
     ]
    },
    {
     "name": "stdout",
     "output_type": "stream",
     "text": [
      "Iteration 1, residual=0, alpha=0.816"
     ]
    }
   ],
   "source": [
    "root_dir = \"E:/Dropbox/GitHub/Multi_Region_CliPP/processed_data\"\n",
    "(r, n, minor, total, purity, coef_list, wcut, drop) = group_all_regions_for_ADMM(root_dir)\n",
    "res = clipp2(\n",
    "    r, n, minor, total,\n",
    "    purity, \n",
    "    coef_list)\n",
    "lab = res[\"label\"]"
   ]
  },
  {
   "cell_type": "code",
   "execution_count": null,
   "id": "608adad1",
   "metadata": {},
   "outputs": [
    {
     "data": {
      "text/plain": [
       "array([0., 0., 0., ..., 0., 0., 0.])"
      ]
     },
     "execution_count": 10,
     "metadata": {},
     "output_type": "execute_result"
    }
   ],
   "source": [
    "lab"
   ]
  },
  {
   "cell_type": "code",
   "execution_count": null,
   "id": "2c4d521d",
   "metadata": {},
   "outputs": [],
   "source": []
  }
 ],
 "metadata": {
  "kernelspec": {
   "display_name": "ml1",
   "language": "python",
   "name": "python3"
  },
  "language_info": {
   "codemirror_mode": {
    "name": "ipython",
    "version": 3
   },
   "file_extension": ".py",
   "mimetype": "text/x-python",
   "name": "python",
   "nbconvert_exporter": "python",
   "pygments_lexer": "ipython3",
   "version": "3.12.7"
  }
 },
 "nbformat": 4,
 "nbformat_minor": 5
}
