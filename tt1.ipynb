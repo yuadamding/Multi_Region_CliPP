{
 "cells": [
  {
   "cell_type": "code",
   "execution_count": 1,
   "id": "98dd09c1",
   "metadata": {},
   "outputs": [],
   "source": [
    "from clipp2.core import *"
   ]
  },
  {
   "cell_type": "code",
   "execution_count": 2,
   "id": "eca5987b",
   "metadata": {},
   "outputs": [
    {
     "name": "stdout",
     "output_type": "stream",
     "text": [
      "Loaded region 'region1': r.shape=(100,), coef.shape=(100, 6), purity=0.568, ploidy=2.0\n",
      "Loaded region 'region2': r.shape=(100,), coef.shape=(100, 6), purity=0.568, ploidy=2.0\n",
      "Loaded region 'region3': r.shape=(100,), coef.shape=(100, 6), purity=0.568, ploidy=2.0\n",
      "Loaded region 'region4': r.shape=(100,), coef.shape=(100, 6), purity=0.568, ploidy=2.0\n",
      "\n",
      "=== Summary of grouped data ===\n",
      "Found M=4 regions. Final r shape= (100, 4), n= (100, 4)\n",
      "minor= (100, 4), total= (100, 4)\n",
      "purity_list= [0.568, 0.568, 0.568, 0.568], ploidy_list= [2.0, 2.0, 2.0, 2.0]\n",
      "coef_list length= 4 (each is (No_mutation,6) typically)\n",
      "wcut= [-0.18  1.8 ]\n",
      "\n",
      "Iteration 63, residual=5.6082e-05, alpha=2.7855\n",
      "ADMM finished.\n",
      "\n"
     ]
    }
   ],
   "source": [
    "root_dir = \"preprocess_result\"\n",
    "(r, n, minor, total, purity, ploidy, coef_list, wcut) = group_all_regions_for_ADMM(root_dir)\n",
    "res = clipp2(\n",
    "    r, n, minor, total,\n",
    "    purity, ploidy,\n",
    "    coef_list)\n",
    "lab = res[\"label\"]"
   ]
  },
  {
   "cell_type": "code",
   "execution_count": 3,
   "id": "4dd1cc34",
   "metadata": {},
   "outputs": [
    {
     "data": {
      "text/plain": [
       "array([ 0.,  5.,  9.,  1.,  9.,  5.,  2.,  9.,  2.,  1.,  9.,  3.,  8.,\n",
       "        5.,  3.,  3.,  8.,  3.,  2., 10.,  3.,  7.,  4.,  5.,  1.,  5.,\n",
       "        6.,  4.,  4.,  2.,  0.,  9.,  7.,  0.,  7.,  1.,  3.,  1.,  1.,\n",
       "        4.,  2.,  7.,  3.,  8., 10., 10.,  4.,  8.,  1.,  9.,  6.,  9.,\n",
       "        8.,  1.,  9.,  3.,  6.,  9.,  2.,  5., 10.,  1.,  6.,  9.,  6.,\n",
       "       10., 10.,  2.,  0.,  2.,  7.,  7.,  3.,  1.,  2.,  0.,  7.,  0.,\n",
       "        9.,  6.,  8.,  0.,  6.,  1.,  0.,  3.,  6.,  4.,  3.,  9.,  2.,\n",
       "        8.,  2.,  3.,  3.,  1.,  4.,  0.,  6.,  5.])"
      ]
     },
     "execution_count": 3,
     "metadata": {},
     "output_type": "execute_result"
    }
   ],
   "source": [
    "lab"
   ]
  },
  {
   "cell_type": "code",
   "execution_count": 1,
   "id": "8dd48e85",
   "metadata": {},
   "outputs": [
    {
     "name": "stdout",
     "output_type": "stream",
     "text": [
      "Loaded region 'region1': r.shape=(100,), coef.shape=(100, 6), purity=0.568\n",
      "\n",
      "=== Summary of grouped data before dropping rows ===\n",
      "Found M=1 regions. r shape= (100, 1), n= (100, 1)\n",
      "minor= (100, 1), total= (100, 1)\n",
      "coef_list length= 1 (each is (No_mutation,6))\n",
      "wcut= [-0.18  1.8 ]\n",
      "\n",
      "Dropped 0 rows that were all-zero in r/n/minor/total/coef.\n",
      "\n",
      "=== Summary of grouped data after dropping rows ===\n",
      "r shape= (100, 1), n= (100, 1)\n",
      "minor= (100, 1), total= (100, 1)\n",
      "coef_list length= 1, each => shape (100, 6)\n",
      "Iteration=1, alpha=0.816, residual=1.2625\n",
      "Iteration=2, alpha=0.8323, residual=0.0245098\n",
      "Iteration=3, alpha=0.849, residual=0.0173093\n",
      "Iteration=4, alpha=0.8659, residual=0.0186698\n",
      "Iteration=5, alpha=0.8833, residual=0.017349\n",
      "Iteration=6, alpha=0.9009, residual=0.0177821\n",
      "Iteration=7, alpha=0.9189, residual=0.0182678\n",
      "Iteration=8, alpha=0.9373, residual=0.0182479\n",
      "Iteration=9, alpha=0.9561, residual=0.0104042\n",
      "Iteration=10, alpha=0.9752, residual=0.013618\n",
      "Iteration=11, alpha=0.9947, residual=0.0139463\n",
      "Iteration=12, alpha=1.015, residual=0.0105363\n",
      "Iteration=13, alpha=1.035, residual=0.00843119\n",
      "\n",
      "ADMM finished.\n",
      "\n"
     ]
    },
    {
     "data": {
      "text/plain": [
       "array([ 0.,  6., 11.,  1., 11.,  6.,  2., 11.,  2.,  1., 11.,  3., 10.,\n",
       "        6.,  4.,  4., 10.,  4.,  2., 12.,  3.,  9.,  5.,  6.,  1.,  6.,\n",
       "        7.,  5.,  5.,  8.,  0., 11.,  9.,  2.,  3.,  1.,  4.,  1.,  1.,\n",
       "        5.,  8.,  9.,  3., 10., 12., 12.,  5., 10.,  1., 11.,  7., 11.,\n",
       "       10.,  1., 11.,  3.,  7., 11.,  5.,  6., 12.,  1.,  0., 11.,  7.,\n",
       "       12., 12.,  8.,  0.,  2.,  9.,  9.,  3.,  1.,  8.,  0.,  9.,  0.,\n",
       "       11.,  7., 10.,  2.,  7.,  1.,  2.,  3.,  7.,  5.,  4., 11.,  2.,\n",
       "       10.,  8.,  3.,  4.,  1.,  5.,  2.,  0.,  6.])"
      ]
     },
     "execution_count": 1,
     "metadata": {},
     "output_type": "execute_result"
    }
   ],
   "source": [
    "from clipp2.core1 import *\n",
    "root_dir = \"preprocess_result\"\n",
    "(r, n, minor, total, purity, coef_list, wcut, drop_rows) = group_all_regions_for_ADMM(root_dir)\n",
    "res = clipp2(\n",
    "    r, n, minor, total,\n",
    "    purity, \n",
    "    coef_list, \n",
    "    precision= 0.01,\n",
    "    Lambda = 0.01)\n",
    "lab = res[\"label\"]\n",
    "lab"
   ]
  },
  {
   "cell_type": "code",
   "execution_count": 2,
   "id": "5f38fa28",
   "metadata": {},
   "outputs": [
    {
     "name": "stdout",
     "output_type": "stream",
     "text": [
      "Loaded region 'region1': r.shape=(100,), coef.shape=(100, 6), purity=0.568\n",
      "\n",
      "=== Summary of grouped data before dropping rows ===\n",
      "Found M=1 regions. r shape= (100, 1), n= (100, 1)\n",
      "minor= (100, 1), total= (100, 1)\n",
      "coef_list length= 1 (each is (No_mutation,6))\n",
      "wcut= [-0.18  1.8 ]\n",
      "\n",
      "Dropped 0 rows that were all-zero in r/n/minor/total/coef.\n",
      "\n",
      "=== Summary of grouped data after dropping rows ===\n",
      "r shape= (100, 1), n= (100, 1)\n",
      "minor= (100, 1), total= (100, 1)\n",
      "coef_list length= 1, each => shape (100, 6)\n",
      "Iter=1, alpha=0.8160, residual=1.2625\n",
      "Iter=2, alpha=0.8323, residual=0.0245099\n",
      "Iter=3, alpha=0.8490, residual=0.0173095\n",
      "Iter=4, alpha=0.8659, residual=0.0186701\n",
      "Iter=5, alpha=0.8833, residual=0.017349\n",
      "Iter=6, alpha=0.9009, residual=0.017782\n",
      "Iter=7, alpha=0.9189, residual=0.0182678\n",
      "Iter=8, alpha=0.9373, residual=0.0182486\n",
      "Iter=9, alpha=0.9561, residual=0.0104054\n",
      "Iter=10, alpha=0.9752, residual=0.0136177\n",
      "Iter=11, alpha=0.9947, residual=0.0139461\n",
      "Iter=12, alpha=1.0146, residual=0.0105363\n",
      "Iter=13, alpha=1.0349, residual=0.00843071\n",
      "\n",
      "ADMM finished.\n",
      "\n"
     ]
    },
    {
     "data": {
      "text/plain": [
       "array([ 0.,  6., 11.,  1., 11.,  6.,  2., 11.,  2.,  1., 11.,  3., 10.,\n",
       "        6.,  4.,  4., 10.,  4.,  2., 12.,  3.,  9.,  5.,  6.,  1.,  6.,\n",
       "        7.,  5.,  5.,  8.,  0., 11.,  9.,  2.,  3.,  1.,  4.,  1.,  1.,\n",
       "        5.,  8.,  9.,  3., 10., 12., 12.,  5., 10.,  1., 11.,  7., 11.,\n",
       "       10.,  1., 11.,  3.,  7., 11.,  5.,  6., 12.,  1.,  0., 11.,  7.,\n",
       "       12., 12.,  8.,  0.,  2.,  9.,  9.,  3.,  1.,  8.,  0.,  9.,  0.,\n",
       "       11.,  7., 10.,  2.,  7.,  1.,  2.,  3.,  7.,  5.,  4., 11.,  2.,\n",
       "       10.,  8.,  3.,  4.,  1.,  5.,  2.,  0.,  6.])"
      ]
     },
     "execution_count": 2,
     "metadata": {},
     "output_type": "execute_result"
    }
   ],
   "source": [
    "from clipp2.core3 import *\n",
    "root_dir = \"preprocess_result\"\n",
    "(r, n, minor, total, purity, coef_list, wcut, drop_rows) = group_all_regions_for_ADMM(root_dir)\n",
    "res = clipp2(\n",
    "    r, n, minor, total,\n",
    "    purity, \n",
    "    coef_list, \n",
    "    precision= 0.01,\n",
    "    Lambda = 0.01)\n",
    "lab = res[\"label\"]\n",
    "lab"
   ]
  },
  {
   "cell_type": "code",
   "execution_count": null,
   "id": "20777455",
   "metadata": {},
   "outputs": [],
   "source": []
  }
 ],
 "metadata": {
  "kernelspec": {
   "display_name": "ml1",
   "language": "python",
   "name": "python3"
  },
  "language_info": {
   "codemirror_mode": {
    "name": "ipython",
    "version": 3
   },
   "file_extension": ".py",
   "mimetype": "text/x-python",
   "name": "python",
   "nbconvert_exporter": "python",
   "pygments_lexer": "ipython3",
   "version": "3.12.7"
  }
 },
 "nbformat": 4,
 "nbformat_minor": 5
}
