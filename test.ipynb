{
 "cells": [
  {
   "cell_type": "code",
   "execution_count": null,
   "metadata": {},
   "outputs": [],
   "source": [
    "import pandas as pd\n",
    "from snv2 import *\n",
    "import ray\n",
    "ray.shutdown()\n",
    "ray.init()\n",
    "\n",
    "df = pd.read_csv('simulation_data_cluster_5_region_6_read_depth_100_replica_2.tsv', sep = '\\t')\n",
    "\n",
    "n = 700\n",
    "m = 6\n",
    "df = df.iloc[0: (n * m), :]\n",
    "\n",
    "\n",
    "rho = 1\n",
    "gamma = [0.25 * i for i in range(20)]\n",
    "omega = 1\n",
    "max_iteration = 10\n",
    "\n",
    "res = [ADMM2.remote(df, rho, gamma[i], omega, n, m, max_iteration)[3] for i in range(10)]\n",
    "res = ray.get(res)\n",
    "ray.shutdown()\n",
    "res\n"
   ]
  },
  {
   "cell_type": "code",
   "execution_count": null,
   "metadata": {},
   "outputs": [],
   "source": []
  },
  {
   "cell_type": "code",
   "execution_count": null,
   "metadata": {},
   "outputs": [],
   "source": []
  },
  {
   "cell_type": "code",
   "execution_count": null,
   "metadata": {},
   "outputs": [],
   "source": []
  },
  {
   "cell_type": "code",
   "execution_count": null,
   "metadata": {},
   "outputs": [],
   "source": []
  },
  {
   "cell_type": "code",
   "execution_count": 1,
   "metadata": {},
   "outputs": [],
   "source": [
    "import pandas as pd\n",
    "from snv import *\n",
    "df = pd.read_csv('simulation_data_cluster_5_region_6_read_depth_100_replica_2.tsv', sep = '\\t')\n",
    "snv_s = []\n",
    "for i in range(10):\n",
    "    start = i * 6\n",
    "    end = i * 6 + 6\n",
    "    mat = df.iloc[start : end, ::]\n",
    "    snv = SNV()\n",
    "    snv.initialize_by_matrix(mat)\n",
    "    snv.get_likelihood()\n",
    "    snv_s.append(snv)\n",
    "snvs1 = snvs()\n",
    "snvs1.initialize_by_list(snv_s)\n",
    "snvs1.set_omega(150)"
   ]
  },
  {
   "cell_type": "code",
   "execution_count": 2,
   "metadata": {},
   "outputs": [
    {
     "data": {
      "text/plain": [
       "mutation                    chr6:55104047\n",
       "region                                 R5\n",
       "ref_counts                             79\n",
       "alt_counts                             16\n",
       "normal_cn                               2\n",
       "major_cn                                3\n",
       "minor_cn                                1\n",
       "tumour_purity                       0.424\n",
       "ccf                                  0.45\n",
       "cluster                                 4\n",
       "SNV-specific copy number              1.0\n",
       "Name: 10, dtype: object"
      ]
     },
     "execution_count": 2,
     "metadata": {},
     "output_type": "execute_result"
    }
   ],
   "source": [
    "df.iloc[10 , ]"
   ]
  }
 ],
 "metadata": {
  "kernelspec": {
   "display_name": "ml1",
   "language": "python",
   "name": "python3"
  },
  "language_info": {
   "codemirror_mode": {
    "name": "ipython",
    "version": 3
   },
   "file_extension": ".py",
   "mimetype": "text/x-python",
   "name": "python",
   "nbconvert_exporter": "python",
   "pygments_lexer": "ipython3",
   "version": "3.12.7"
  }
 },
 "nbformat": 4,
 "nbformat_minor": 2
}
