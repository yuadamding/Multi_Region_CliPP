{
 "cells": [
  {
   "cell_type": "code",
   "execution_count": 1,
   "metadata": {},
   "outputs": [],
   "source": [
    "from numpy import genfromtxt\n",
    "import numpy as np\n",
    "\n",
    "prefix = 'E:/Dropbox/MDA/Subclonal Reconstruction/CliPP-1.2.1/preprocess_result/'\n",
    "r = genfromtxt(prefix+\"r.txt\", delimiter=\"\\t\")\n",
    "n = genfromtxt(prefix+\"n.txt\", delimiter=\"\\t\")\n",
    "minor = genfromtxt(prefix+\"minor.txt\", delimiter=\"\\t\")\n",
    "total = genfromtxt(prefix+\"total.txt\", delimiter=\"\\t\")\n",
    "purity = genfromtxt(prefix+\"purity_ploidy.txt\", delimiter=\"\\t\")\n",
    "coef = genfromtxt(prefix+\"coef.txt\", delimiter=\"\\t\")\n",
    "phicut = genfromtxt(prefix+\"cutbeta.txt\", delimiter=\" \")\n",
    "wcut = phicut\n",
    "No_mutation = len(r)\n",
    "least_mut = np.ceil(0.05 * No_mutation)\n",
    "\n",
    "ploidy = 2\n",
    "alpha = 0.8\n",
    "gamma = 3.7\n",
    "rho = 1.02\n",
    "precision = 0.01\n",
    "Run_limit = 1e4\n",
    "control_large = 5\n",
    "post_th = 0.05\n",
    "least_diff = 0.01\n",
    "Lambda_list = [0.01, 0.03, 0.05, 0.075, 0.1, 0.125, 0.15, 0.175, 0.2, 0.225, 0.25]"
   ]
  },
  {
   "cell_type": "code",
   "execution_count": 2,
   "metadata": {},
   "outputs": [],
   "source": [
    "import numpy as np\n",
    "import scipy as sp\n",
    "import scipy.sparse\n",
    "from scipy.special import logit\n",
    "from scipy.special import expit"
   ]
  },
  {
   "cell_type": "code",
   "execution_count": 3,
   "metadata": {},
   "outputs": [],
   "source": [
    "Lambda = 0.01"
   ]
  },
  {
   "cell_type": "code",
   "execution_count": 4,
   "metadata": {},
   "outputs": [],
   "source": [
    "def ST(x, lam):\n",
    "\tval = np.abs(x) - lam\n",
    "\tval = np.sign(x)*(val > 0) * val\n",
    "\treturn val"
   ]
  },
  {
   "cell_type": "code",
   "execution_count": 5,
   "metadata": {},
   "outputs": [],
   "source": [
    "No_mutation = len(r)\n",
    "NO_MUTATION = len(r)\n",
    "# VAF\n",
    "theta_hat = r / n\n",
    "phi_hat = theta_hat * ((ploidy - purity * ploidy + purity * total) / minor)\n",
    "# constrain phi_hat in (0,1)\n",
    "scale_parameter = np.max([1, np.max(phi_hat)])\n",
    "phi_new = phi_hat / scale_parameter\n",
    "# control_large is used to avoid having large result\n",
    "phi_new[phi_new > expit(control_large)] = expit(control_large)\n",
    "phi_new[phi_new < expit(-control_large)] = expit(-control_large)\n",
    "w_new = logit(phi_new)\n",
    "w_new[w_new > control_large] = control_large\n",
    "w_new[w_new < -control_large] = -control_large\n",
    "k = 0  # iterator\n",
    "diff = np.subtract.outer(w_new, w_new)\n",
    "ids = np.triu_indices(diff.shape[1], 1)\n",
    "eta_new = diff[ids]\n",
    "tau_new = np.ones((int(No_mutation * (No_mutation - 1) / 2), 1))\n",
    "col_id = np.append(np.array(range(int(No_mutation * (No_mutation - 1) / 2))),\n",
    "                    np.array(range(int(No_mutation * (No_mutation - 1) / 2))))\n",
    "row1 = np.zeros(int(No_mutation * (No_mutation - 1) / 2))\n",
    "row2 = np.zeros(int(No_mutation * (No_mutation - 1) / 2))\n",
    "starting = 0\n",
    "for i in range(No_mutation - 1):\n",
    "    row1[starting:(starting + No_mutation - i - 1)] = i\n",
    "    row2[starting:(starting + No_mutation - i - 1)] = np.array(range(No_mutation))[(i + 1):]\n",
    "    starting = starting + No_mutation - i - 1\n",
    "row_id = np.append(row1, row2)\n",
    "vals = np.append(np.ones(int(No_mutation * (No_mutation - 1) / 2)),\n",
    "                    -np.ones(int(No_mutation * (No_mutation - 1) / 2)))\n",
    "DELTA = sp.sparse.coo_matrix((vals, (row_id, col_id)),\n",
    "                                shape=(No_mutation, int(No_mutation * (No_mutation - 1) / 2))).tocsr()\n",
    "residual = 100\n",
    "\n"
   ]
  },
  {
   "cell_type": "code",
   "execution_count": 6,
   "metadata": {},
   "outputs": [
    {
     "name": "stdout",
     "output_type": "stream",
     "text": [
      " 13 , 0.008431190170547095"
     ]
    }
   ],
   "source": [
    "while residual > precision and k < Run_limit:\n",
    "    k = k + 1\n",
    "    w_old = w_new\n",
    "    tau_old = tau_new\n",
    "    eta_old = eta_new\n",
    "    theta = np.exp(w_old) * minor / (2 + np.exp(w_old) * total)\n",
    "\n",
    "    A = np.sqrt(n) * (\n",
    "                (w_old <= wcut[:, 0]) * coef[:, 1] + (w_old >= wcut[:, 1]) * coef[:, 5] + (w_old > wcut[:, 0]) * (\n",
    "                    w_old < wcut[:, 1]) * coef[:, 3] - theta_hat) / np.sqrt(theta * (1 - theta))\n",
    "    B = np.sqrt(n) * (\n",
    "                (w_old <= wcut[:, 0]) * coef[:, 0] + (w_old >= wcut[:, 1]) * coef[:, 4] + (w_old > wcut[:, 0]) * (\n",
    "                    w_old < wcut[:, 1]) * coef[:, 2]) / np.sqrt(theta * (1 - theta))\n",
    "\n",
    "    linear = (DELTA * np.matrix((alpha * eta_old + tau_new.T).T)).flatten() - (B * A)\n",
    "\n",
    "    Minv = 1 / (B ** 2 + No_mutation * alpha)\n",
    "    Minv_diag = np.diag(Minv)\n",
    "\n",
    "    trace_g = -alpha * np.sum(Minv)\n",
    "\n",
    "    Minv_outer = np.outer(Minv,Minv)\n",
    "    inverted = Minv_diag - (1 / (1 + trace_g) * (-alpha) * Minv_outer)\n",
    "    w_new    = np.matmul(inverted, linear.T)\n",
    "\n",
    "    w_new = np.array(w_new).ravel()\n",
    "    w_new[w_new > control_large] = control_large\n",
    "    w_new[w_new < -control_large] = -control_large\n",
    "    diff = np.subtract.outer(w_new, w_new)\n",
    "    delt = (diff[ids] - 1 / alpha * tau_old.T).ravel()\n",
    "    eta_new = delt * (np.abs(delt) > gamma * Lambda) + ST(delt, Lambda / alpha) * (\n",
    "                np.abs(delt) < (Lambda + Lambda / alpha)) + ST(delt, gamma * Lambda / ((gamma - 1) * alpha)) / (\n",
    "                            1 - 1 / ((gamma - 1) * alpha)) * (np.abs(delt) <= (gamma * Lambda)) * (\n",
    "                            np.abs(delt) >= (Lambda + Lambda / alpha))\n",
    "    tau_new = tau_old - np.array([alpha * (diff[ids] - eta_new)]).T\n",
    "    alpha = alpha * rho\n",
    "    residual = np.max(diff[ids] - eta_new)\n",
    "    print('\\r', k, ',', residual, end=\"\")\n"
   ]
  },
  {
   "cell_type": "code",
   "execution_count": 7,
   "metadata": {},
   "outputs": [],
   "source": [
    "# assign mutations based on the distance matrix\n",
    "eta_new[np.where(np.abs(eta_new) <= post_th)] = 0\n",
    "diff[ids] = eta_new\n",
    "class_label = -np.ones(No_mutation)\n",
    "class_label[0] = 0\n",
    "group_size = [1]\n",
    "labl = 1"
   ]
  },
  {
   "cell_type": "code",
   "execution_count": null,
   "metadata": {},
   "outputs": [
    {
     "data": {
      "text/plain": [
       "'/Users/yuding/Dropbox/MDA/Subclonal Reconstruction/CliPP-1.2.1/preprocess_result/diff.txt'"
      ]
     },
     "execution_count": 10,
     "metadata": {},
     "output_type": "execute_result"
    }
   ],
   "source": [
    "prefix = '/Users/yuding/Dropbox/MDA/Subclonal Reconstruction/CliPP-1.2.1/preprocess_result/'"
   ]
  },
  {
   "cell_type": "code",
   "execution_count": 11,
   "metadata": {},
   "outputs": [],
   "source": [
    "np.savetxt(prefix+\"diff.txt\", diff)\n",
    "np.savetxt(prefix+\"eta_new.txt\", eta_new)\n"
   ]
  },
  {
   "cell_type": "code",
   "execution_count": 8,
   "metadata": {},
   "outputs": [],
   "source": [
    "for i in range(1, No_mutation):\n",
    "    for j in range(i):\n",
    "        if diff[j, i] == 0:\n",
    "            class_label[i] = class_label[j]\n",
    "            group_size[int(class_label[j])] += 1\n",
    "            break\n",
    "    if class_label[i] == -1:\n",
    "        class_label[i] = labl\n",
    "        labl += 1\n",
    "        group_size.append(1)"
   ]
  },
  {
   "cell_type": "code",
   "execution_count": null,
   "metadata": {},
   "outputs": [],
   "source": [
    "# quality control\n",
    "tmp_size = np.min(np.array(group_size)[np.array(group_size) > 0])\n",
    "tmp_grp = np.where(group_size == tmp_size)\n",
    "refine = False\n",
    "if tmp_size < least_mut:\n",
    "    refine = True\n",
    "while refine:\n",
    "    refine = False\n",
    "    tmp_col = np.where(class_label == tmp_grp[0][0])[0]\n",
    "    for i in range(len(tmp_col)):\n",
    "        if tmp_col[i] != 0 and tmp_col[i] != No_mutation - 1:\n",
    "            tmp_diff = np.abs(np.append(np.append(diff[0:tmp_col[i], tmp_col[i]].T.ravel(), 100),\n",
    "                                        diff[tmp_col[i], (tmp_col[i] + 1):No_mutation].ravel()))\n",
    "            tmp_diff[tmp_col] += 100\n",
    "            diff[0:tmp_col[i], tmp_col[i]] = tmp_diff[0:tmp_col[i]]\n",
    "            diff[tmp_col[i], (tmp_col[i] + 1):No_mutation] = tmp_diff[(tmp_col[i] + 1):No_mutation]\n",
    "        elif tmp_col[i] == 0:\n",
    "            tmp_diff = np.append(100, diff[0, 1:No_mutation])\n",
    "            tmp_diff[tmp_col] += 100\n",
    "            diff[0, 1:No_mutation] = tmp_diff[1:No_mutation]\n",
    "        else:\n",
    "            tmp_diff = np.append(diff[0:(No_mutation - 1), No_mutation - 1], 100)\n",
    "            tmp_diff[tmp_col] += 100\n",
    "            diff[0:(No_mutation - 1), No_mutation - 1] = tmp_diff[0:(No_mutation - 1)]\n",
    "        ind = tmp_diff.argmin()\n",
    "        group_size[class_label.astype(np.int64, copy=False)[tmp_col[i]]] -= 1\n",
    "        class_label[tmp_col[i]] = class_label[ind]\n",
    "        group_size[class_label.astype(np.int64, copy=False)[tmp_col[i]]] += 1\n",
    "    tmp_size = np.min(np.array(group_size)[np.array(group_size) > 0])\n",
    "    tmp_grp = np.where(group_size == tmp_size)\n",
    "    refine = False\n",
    "    if tmp_size < least_mut:\n",
    "        refine = True\n"
   ]
  },
  {
   "cell_type": "code",
   "execution_count": 27,
   "metadata": {},
   "outputs": [],
   "source": [
    "labels = np.unique(class_label)\n",
    "phi_out = np.zeros(len(labels))\n",
    "for i in range(len(labels)):\n",
    "    ind = np.where(class_label == labels[i])[0]\n",
    "    class_label[ind] = i\n",
    "    phi_out[i] = np.sum(phi_hat[ind] * n[ind]) / np.sum(n[ind])"
   ]
  },
  {
   "cell_type": "code",
   "execution_count": 28,
   "metadata": {},
   "outputs": [],
   "source": [
    "\n",
    "if len(labels) > 1:\n",
    "    sort_phi = np.sort(phi_out)\n",
    "    phi_diff = sort_phi[1:] - sort_phi[:-1]\n",
    "    min_val = phi_diff.min()\n",
    "    min_ind = phi_diff.argmin()\n",
    "    while min_val < least_diff:\n",
    "        combine_ind = np.where(phi_out == sort_phi[min_ind])[0]\n",
    "        combine_to_ind = np.where(phi_out == sort_phi[min_ind + 1])[0]\n",
    "        class_label[class_label == combine_ind] = combine_to_ind\n",
    "        labels = np.unique(class_label)\n",
    "        phi_out = np.zeros(len(labels))\n",
    "        for i in range(len(labels)):\n",
    "            ind = np.where(class_label == labels[i])[0]\n",
    "            class_label[ind] = i\n",
    "            phi_out[i] = np.sum(phi_hat[ind] * n[ind]) / np.sum(n[ind])\n",
    "        if len(labels) == 1:\n",
    "            break\n",
    "        else:\n",
    "            sort_phi = np.sort(phi_out)\n",
    "            phi_diff = sort_phi[1:] - sort_phi[:-1]\n",
    "            min_val = phi_diff.min()\n",
    "            min_ind = phi_diff.argmin()\n",
    "phi_res = np.zeros(No_mutation)\n",
    "for lab in range(len(phi_out)):\n",
    "    phi_res[class_label == lab] = phi_out[lab]"
   ]
  },
  {
   "cell_type": "code",
   "execution_count": 29,
   "metadata": {},
   "outputs": [
    {
     "data": {
      "text/plain": [
       "array([ 0.,  6., 11.,  1., 11.,  6.,  2., 11.,  2.,  1., 11.,  3., 10.,\n",
       "        6.,  4.,  4., 10.,  4.,  2., 12.,  3.,  9.,  5.,  6.,  1.,  6.,\n",
       "        7.,  5.,  5.,  8.,  0., 11.,  9.,  2.,  3.,  1.,  4.,  1.,  1.,\n",
       "        5.,  8.,  9.,  3., 10., 12., 12.,  5., 10.,  1., 11.,  7., 11.,\n",
       "       10.,  1., 11.,  3.,  7., 11.,  5.,  6., 12.,  1.,  0., 11.,  7.,\n",
       "       12., 12.,  8.,  0.,  2.,  9.,  9.,  3.,  1.,  8.,  0.,  9.,  0.,\n",
       "       11.,  7., 10.,  2.,  7.,  1.,  2.,  3.,  7.,  5.,  4., 11.,  2.,\n",
       "       10.,  8.,  3.,  4.,  1.,  5.,  2.,  0., 12.])"
      ]
     },
     "execution_count": 29,
     "metadata": {},
     "output_type": "execute_result"
    }
   ],
   "source": [
    "class_label"
   ]
  },
  {
   "cell_type": "code",
   "execution_count": 30,
   "metadata": {},
   "outputs": [
    {
     "data": {
      "text/plain": [
       "array([0.17132847, 0.11807679, 0.19047619, 0.37486146, 0.32998243,\n",
       "       0.22728675, 0.26372771, 0.14918669, 0.20584861, 0.43674641,\n",
       "       0.52061357, 0.66901667, 0.09650067])"
      ]
     },
     "execution_count": 30,
     "metadata": {},
     "output_type": "execute_result"
    }
   ],
   "source": [
    "phi_out"
   ]
  },
  {
   "cell_type": "code",
   "execution_count": null,
   "metadata": {},
   "outputs": [],
   "source": [
    "k = 2\n",
    "Run_limit = 1e4\n",
    "residual = 0.006127\n",
    "precision = 0.01\n",
    "k > 10 or (k < Run_limit and residual > precision)"
   ]
  }
 ],
 "metadata": {
  "kernelspec": {
   "display_name": "ml1",
   "language": "python",
   "name": "python3"
  },
  "language_info": {
   "codemirror_mode": {
    "name": "ipython",
    "version": 3
   },
   "file_extension": ".py",
   "mimetype": "text/x-python",
   "name": "python",
   "nbconvert_exporter": "python",
   "pygments_lexer": "ipython3",
   "version": "3.12.7"
  }
 },
 "nbformat": 4,
 "nbformat_minor": 2
}
