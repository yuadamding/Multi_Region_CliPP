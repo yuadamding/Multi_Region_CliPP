{
 "cells": [
  {
   "cell_type": "code",
   "execution_count": 1,
   "id": "98dd09c1",
   "metadata": {},
   "outputs": [],
   "source": [
    "from clipp2.core import *"
   ]
  },
  {
   "cell_type": "code",
   "execution_count": null,
   "id": "eca5987b",
   "metadata": {},
   "outputs": [
    {
     "name": "stdout",
     "output_type": "stream",
     "text": [
      "Loaded region 'region1': r.shape=(100,), coef.shape=(100, 6), purity=0.568, ploidy=2.0\n",
      "Loaded region 'region1 copy': r.shape=(100,), coef.shape=(100, 6), purity=0.568, ploidy=2.0\n",
      "Loaded region 'region1 copy 2': r.shape=(100,), coef.shape=(100, 6), purity=0.568, ploidy=2.0\n",
      "Loaded region 'region1 copy 3': r.shape=(100,), coef.shape=(100, 6), purity=0.568, ploidy=2.0\n",
      "\n",
      "=== Summary of grouped data ===\n",
      "Found M=4 regions. Final r shape= (100, 4), n= (100, 4)\n",
      "minor= (100, 4), total= (100, 4)\n",
      "purity_list= [0.568, 0.568, 0.568, 0.568], ploidy_list= [2.0, 2.0, 2.0, 2.0]\n",
      "coef_list length= 4 (each is (No_mutation,6) typically)\n",
      "wcut= [-0.18  1.8 ]\n",
      "\n",
      "Iteration 11, residual=0.0088002, alpha=0.9947\n",
      "ADMM finished.\n",
      "\n"
     ]
    }
   ],
   "source": [
    "root_dir = \"preprocess_result\"\n",
    "(r, n, minor, total, purity, ploidy, coef_list, wcut) = group_all_regions_for_ADMM(root_dir)\n",
    "res = clipp2(\n",
    "    r, n, minor, total,\n",
    "    purity, ploidy,\n",
    "    coef_list)\n",
    "lab = res[\"label\"]"
   ]
  },
  {
   "cell_type": "code",
   "execution_count": null,
   "id": "4dd1cc34",
   "metadata": {},
   "outputs": [],
   "source": []
  }
 ],
 "metadata": {
  "kernelspec": {
   "display_name": "ml1",
   "language": "python",
   "name": "python3"
  },
  "language_info": {
   "codemirror_mode": {
    "name": "ipython",
    "version": 3
   },
   "file_extension": ".py",
   "mimetype": "text/x-python",
   "name": "python",
   "nbconvert_exporter": "python",
   "pygments_lexer": "ipython3",
   "version": "3.12.7"
  }
 },
 "nbformat": 4,
 "nbformat_minor": 5
}
