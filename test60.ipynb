{
 "cells": [
  {
   "cell_type": "code",
   "execution_count": 1,
   "metadata": {},
   "outputs": [],
   "source": [
    "from clipp2 import *"
   ]
  },
  {
   "cell_type": "code",
   "execution_count": 2,
   "metadata": {},
   "outputs": [],
   "source": [
    "snv_df = pd.read_csv('sample.snv.txt', sep='\\t')\n",
    "cn_df = pd.read_csv('sample.cna.txt', sep='\\t')\n",
    "purity = 0.568\n",
    "sample_id=\"unknown_sample\"\n",
    "valid_snvs_threshold=0\n",
    "diff_cutoff=0.1"
   ]
  },
  {
   "cell_type": "code",
   "execution_count": 3,
   "metadata": {},
   "outputs": [],
   "source": [
    "gamma_list = [0.01, 0.03, 0.05, 0.075, 0.1, 0.125, 0.15, 0.175, 0.2, 0.225, 0.25]"
   ]
  },
  {
   "cell_type": "code",
   "execution_count": 4,
   "metadata": {},
   "outputs": [
    {
     "name": "stderr",
     "output_type": "stream",
     "text": [
      "2025-03-17 12:52:45,543\tINFO worker.py:1786 -- Started a local Ray instance.\n",
      "\u001b[36m(CliPP2 pid=6723)\u001b[0m /Users/yuding/Dropbox/GitHub/Multi_Region_CliPP/clipp2.py:493: RuntimeWarning: divide by zero encountered in divide\n",
      "\u001b[36m(CliPP2 pid=6723)\u001b[0m   phi_hat = (read_mat / (total_read_mat * c_mat))\n",
      "\u001b[36m(CliPP2 pid=6723)\u001b[0m /Users/yuding/Dropbox/GitHub/Multi_Region_CliPP/clipp2.py:495: RuntimeWarning: invalid value encountered in divide\n",
      "\u001b[36m(CliPP2 pid=6723)\u001b[0m   phi_hat = phi_hat / scale_parameter\n",
      "\u001b[36m(CliPP2 pid=6735)\u001b[0m /Users/yuding/Dropbox/GitHub/Multi_Region_CliPP/clipp2.py:493: RuntimeWarning: divide by zero encountered in divide\u001b[32m [repeated 10x across cluster] (Ray deduplicates logs by default. Set RAY_DEDUP_LOGS=0 to disable log deduplication, or see https://docs.ray.io/en/master/ray-observability/user-guides/configure-logging.html#log-deduplication for more options.)\u001b[0m\n",
      "\u001b[36m(CliPP2 pid=6735)\u001b[0m   phi_hat = (read_mat / (total_read_mat * c_mat))\u001b[32m [repeated 10x across cluster]\u001b[0m\n",
      "\u001b[36m(CliPP2 pid=6735)\u001b[0m /Users/yuding/Dropbox/GitHub/Multi_Region_CliPP/clipp2.py:495: RuntimeWarning: invalid value encountered in divide\u001b[32m [repeated 10x across cluster]\u001b[0m\n",
      "\u001b[36m(CliPP2 pid=6735)\u001b[0m   phi_hat = phi_hat / scale_parameter\u001b[32m [repeated 10x across cluster]\u001b[0m\n"
     ]
    }
   ],
   "source": [
    "res = run_preproc_and_CliPP2(snv_df, cn_df, purity, sample_id, gamma_list)"
   ]
  },
  {
   "cell_type": "code",
   "execution_count": null,
   "metadata": {},
   "outputs": [],
   "source": []
  },
  {
   "cell_type": "code",
   "execution_count": null,
   "metadata": {},
   "outputs": [],
   "source": []
  }
 ],
 "metadata": {
  "kernelspec": {
   "display_name": "ml1",
   "language": "python",
   "name": "python3"
  },
  "language_info": {
   "codemirror_mode": {
    "name": "ipython",
    "version": 3
   },
   "file_extension": ".py",
   "mimetype": "text/x-python",
   "name": "python",
   "nbconvert_exporter": "python",
   "pygments_lexer": "ipython3",
   "version": "3.12.7"
  }
 },
 "nbformat": 4,
 "nbformat_minor": 2
}
