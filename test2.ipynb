{
 "cells": [
  {
   "cell_type": "code",
   "execution_count": 16,
   "metadata": {},
   "outputs": [],
   "source": [
    "import pandas as pd\n",
    "from snv2 import *\n",
    "\n",
    "_output_root = 'multi_clipp_simulation_data_March4/'\n",
    "df = pd.read_csv(_output_root + 'simulation_data_cluster_5_region_6_read_depth_100_replica_2.tsv', sep = '\\t')\n"
   ]
  },
  {
   "cell_type": "code",
   "execution_count": 17,
   "metadata": {},
   "outputs": [
    {
     "data": {
      "text/plain": [
       "{0: [0, 1, 8],\n",
       " 3: [2, 3, 4, 6, 7, 9, 11, 15, 17],\n",
       " 1: [5, 13, 18],\n",
       " 2: [10, 16],\n",
       " 4: [12, 14, 19]}"
      ]
     },
     "execution_count": 17,
     "metadata": {},
     "output_type": "execute_result"
    }
   ],
   "source": [
    "dic = {}\n",
    "for i in range(int(len(df.cluster) / 6)):\n",
    "    index = 6 * i\n",
    "    if df.cluster[index] in dic.keys():\n",
    "        dic[df.cluster[index]].append(i)\n",
    "    else:\n",
    "        dic[df.cluster[index]] = [i]\n",
    "dic"
   ]
  },
  {
   "cell_type": "code",
   "execution_count": null,
   "metadata": {},
   "outputs": [],
   "source": []
  }
 ],
 "metadata": {
  "kernelspec": {
   "display_name": "ml1",
   "language": "python",
   "name": "python3"
  },
  "language_info": {
   "codemirror_mode": {
    "name": "ipython",
    "version": 3
   },
   "file_extension": ".py",
   "mimetype": "text/x-python",
   "name": "python",
   "nbconvert_exporter": "python",
   "pygments_lexer": "ipython3",
   "version": "3.12.7"
  }
 },
 "nbformat": 4,
 "nbformat_minor": 2
}
