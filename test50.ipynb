{
 "cells": [
  {
   "cell_type": "code",
   "execution_count": 1,
   "metadata": {},
   "outputs": [],
   "source": [
    "from clipp2 import *\n",
    "import pandas as pd\n",
    "import ray\n",
    "# File path\n",
    "file_path = '/Users/yuding/Dropbox/GitHub/Multi_Region_CliPP/multi_clipp_simulation_data/simulation_data_cluster_3_region_1_read_depth_100_replica_2.tsv'\n",
    "\n",
    "# Read the data into a DataFrame\n",
    "df = pd.read_csv(file_path, sep='\\t')\n",
    "rho = 0.8\n",
    "omega = 1\n",
    "n = df.shape[0]\n",
    "m = 1\n",
    "gamma_list = [0.01, 0.03, 0.05, 0.075, 0.1, 0.125, 0.15, 0.175, 0.2, 0.225, 0.25]\n",
    "control_large = 5\n",
    "precision = 0.01\n",
    "max_iteration = 10000"
   ]
  },
  {
   "cell_type": "code",
   "execution_count": 2,
   "metadata": {},
   "outputs": [
    {
     "name": "stderr",
     "output_type": "stream",
     "text": [
      "2025-03-18 16:29:13,204\tINFO worker.py:1786 -- Started a local Ray instance.\n"
     ]
    }
   ],
   "source": [
    "ray.shutdown()\n",
    "ray.init()\n",
    "res = [CliPP2.remote(df, rho, gamma_list[i], omega, n, m) for i in range(len(gamma_list))]\n",
    "res = ray.get(res)\n",
    "ray.shutdown()\n"
   ]
  },
  {
   "cell_type": "code",
   "execution_count": 3,
   "metadata": {},
   "outputs": [
    {
     "name": "stdout",
     "output_type": "stream",
     "text": [
      "Adjusted Rand Index: 0.9821630299066532\n",
      "Adjusted Rand Index: 1.0\n",
      "Adjusted Rand Index: 0.8679453875840178\n",
      "Adjusted Rand Index: 1.0\n",
      "Adjusted Rand Index: 0.9876508890290712\n",
      "Adjusted Rand Index: 1.0\n",
      "Adjusted Rand Index: 0.9767977402509365\n",
      "Adjusted Rand Index: 1.0\n",
      "Adjusted Rand Index: 1.0\n",
      "Adjusted Rand Index: 0.9839144897352895\n",
      "Adjusted Rand Index: 1.0\n"
     ]
    }
   ],
   "source": [
    "for i in range(len(gamma_list)):\n",
    "    clip2_res = res[i]['label']\n",
    "    lam = gamma_list[i]\n",
    "    clip_res = pd.read_csv(f'/Users/yuding/Dropbox/MDA/Subclonal Reconstruction/CliPP-1.2.1/sample_id/preliminary_result/lam{lam}_label.txt', sep='\\t', header=None)\n",
    "    clip_res = clip_res.to_numpy()\n",
    "    clip_res = clip_res.reshape(-1)\n",
    "    from sklearn.metrics import adjusted_rand_score\n",
    "    # Calculate the Adjusted Rand Index\n",
    "    ari = adjusted_rand_score(clip2_res, clip_res)\n",
    "    print(\"Adjusted Rand Index:\", ari)"
   ]
  },
  {
   "cell_type": "code",
   "execution_count": 14,
   "metadata": {},
   "outputs": [],
   "source": [
    "i = 0\n",
    "lam = gamma_list[i]\n",
    "clip_res = pd.read_csv(f'/Users/yuding/Dropbox/MDA/Subclonal Reconstruction/CliPP-1.2.1/sample_id/preliminary_result/lam{lam}_label.txt', sep='\\t', header=None)\n",
    "clip_phi = pd.read_csv(f'/Users/yuding/Dropbox/MDA/Subclonal Reconstruction/CliPP-1.2.1/sample_id/preliminary_result/lam{lam}_phi.txt', sep='\\t', header=None)\n",
    "clip_res = clip_res.to_numpy()\n",
    "clip_res = clip_res.reshape(-1)\n",
    "clip_phi = clip_phi.to_numpy()\n",
    "clip_phi = clip_phi.reshape(-1)\n",
    "df = {\n",
    "    'mutation' : [i + 1 for i in range(100)],\n",
    "    'clipp2_phi' : res[i]['phi'].reshape(-1),\n",
    "    'clipp2_label' : res[i]['label'],\n",
    "    'clip_phi' : clip_phi,\n",
    "    'clip_res' : clip_res\n",
    "}"
   ]
  },
  {
   "cell_type": "code",
   "execution_count": 17,
   "metadata": {},
   "outputs": [
    {
     "data": {
      "image/png": "[encoded data removed]",
      "text/plain": [
       "<Figure size 1200x600 with 2 Axes>"
      ]
     },
     "metadata": {},
     "output_type": "display_data"
    }
   ],
   "source": [
    "import matplotlib.pyplot as plt\n",
    "# Create scatter plot\n",
    "groups1 = df['clipp2_label']\n",
    "groups2 = df['clip_res']\n",
    "\n",
    "fig, axes = plt.subplots(1, 2, figsize=(12, 6))\n",
    "\n",
    "axes[0].scatter(df['clipp2_phi'], df['clip_phi'], c=groups1, cmap='tab10')\n",
    "axes[0].set_xlabel('clipp2_phi')\n",
    "axes[0].set_ylabel('clipp1_phi')\n",
    "axes[0].set_title('Colored by Index from CliPP2')\n",
    "\n",
    "axes[1].scatter(df['clipp2_phi'], df['clip_phi'], c=groups2, cmap='tab10')\n",
    "axes[0].set_xlabel('clipp2_phi')\n",
    "axes[0].set_ylabel('clipp1_phi')\n",
    "axes[1].set_title('Colored by Index from CliPP1')\n",
    "\n",
    "plt.tight_layout()\n",
    "plt.show()"
   ]
  },
  {
   "cell_type": "code",
   "execution_count": null,
   "metadata": {},
   "outputs": [],
   "source": []
  },
  {
   "cell_type": "code",
   "execution_count": null,
   "metadata": {},
   "outputs": [],
   "source": []
  },
  {
   "cell_type": "code",
   "execution_count": null,
   "metadata": {},
   "outputs": [],
   "source": []
  },
  {
   "cell_type": "code",
   "execution_count": 41,
   "metadata": {},
   "outputs": [
    {
     "name": "stdout",
     "output_type": "stream",
     "text": [
      "Adjusted Rand Index: 0.9821630299066532\n",
      "Adjusted Rand Index: 1.0\n",
      "Adjusted Rand Index: 0.8679453875840178\n",
      "Adjusted Rand Index: 1.0\n",
      "Adjusted Rand Index: 0.9876508890290712\n",
      "Adjusted Rand Index: 1.0\n",
      "Adjusted Rand Index: 0.9767977402509365\n",
      "Adjusted Rand Index: 1.0\n",
      "Adjusted Rand Index: 1.0\n",
      "Adjusted Rand Index: 0.9839144897352895\n",
      "Adjusted Rand Index: 1.0\n"
     ]
    }
   ],
   "source": [
    "for i in range(len(gamma_list)):\n",
    "    clip2_res = res[i]['label']\n",
    "    lam = gamma_list[i]\n",
    "    clip_res = pd.read_csv(f'/Users/yuding/Dropbox/MDA/Subclonal Reconstruction/CliPP-1.2.1/sample_id/preliminary_result/lam{lam}_label.txt', sep='\\t', header=None)\n",
    "    clip_res = clip_res.to_numpy()\n",
    "    clip_res = clip_res.reshape(-1)\n",
    "    from sklearn.metrics import adjusted_rand_score\n",
    "    # Calculate the Adjusted Rand Index\n",
    "    ari = adjusted_rand_score(clip2_res, clip_res)\n",
    "    print(\"Adjusted Rand Index:\", ari)"
   ]
  },
  {
   "cell_type": "code",
   "execution_count": null,
   "metadata": {},
   "outputs": [
    {
     "name": "stdout",
     "output_type": "stream",
     "text": [
      "Adjusted Rand Index: 0.8679453875840178\n"
     ]
    }
   ],
   "source": [
    "i = 2\n",
    "clip2_res = res[i]['label']\n",
    "lam = gamma_list[i]\n",
    "clip_res = pd.read_csv(f'/Users/yuding/Dropbox/MDA/Subclonal Reconstruction/CliPP-1.2.1/sample_id/preliminary_result/lam{lam}_label.txt', sep='\\t')\n",
    "clip_res['clipp2_res'] = clip2_res\n",
    "from sklearn.metrics import adjusted_rand_score\n",
    "# Calculate the Adjusted Rand Index\n",
    "ari = adjusted_rand_score(clip2_res, clip_res['cluster_index'])\n",
    "print(\"Adjusted Rand Index:\", ari)"
   ]
  },
  {
   "cell_type": "code",
   "execution_count": null,
   "metadata": {},
   "outputs": [
    {
     "data": {
      "application/vnd.microsoft.datawrangler.viewer.v0+json": {
       "columns": [
        {
         "name": "index",
         "rawType": "int64",
         "type": "integer"
        },
        {
         "name": "chromosome_index",
         "rawType": "int64",
         "type": "integer"
        },
        {
         "name": "position",
         "rawType": "int64",
         "type": "integer"
        },
        {
         "name": "cluster_index",
         "rawType": "int64",
         "type": "integer"
        },
        {
         "name": "clipp2_res",
         "rawType": "float64",
         "type": "float"
        }
       ],
       "conversionMethod": "pd.DataFrame",
       "ref": "eb0d8c6e-6273-47ac-adb9-21eddcaffd8a",
       "rows": [
        [
         "0",
         "1",
         "7",
         "7",
         "0.0"
        ],
        [
         "1",
         "1",
         "12",
         "4",
         "5.0"
        ],
        [
         "2",
         "1",
         "17",
         "0",
         "9.0"
        ],
        [
         "3",
         "1",
         "22",
         "9",
         "1.0"
        ],
        [
         "4",
         "1",
         "27",
         "0",
         "9.0"
        ],
        [
         "5",
         "1",
         "32",
         "4",
         "5.0"
        ],
        [
         "6",
         "1",
         "37",
         "6",
         "2.0"
        ],
        [
         "7",
         "1",
         "42",
         "0",
         "9.0"
        ],
        [
         "8",
         "1",
         "47",
         "6",
         "2.0"
        ],
        [
         "9",
         "1",
         "52",
         "9",
         "1.0"
        ],
        [
         "10",
         "1",
         "57",
         "0",
         "9.0"
        ],
        [
         "11",
         "1",
         "62",
         "3",
         "3.0"
        ],
        [
         "12",
         "1",
         "67",
         "1",
         "7.0"
        ],
        [
         "13",
         "1",
         "72",
         "9",
         "5.0"
        ],
        [
         "14",
         "1",
         "77",
         "3",
         "3.0"
        ],
        [
         "15",
         "1",
         "82",
         "3",
         "3.0"
        ],
        [
         "16",
         "1",
         "87",
         "1",
         "7.0"
        ],
        [
         "17",
         "1",
         "92",
         "3",
         "3.0"
        ],
        [
         "18",
         "1",
         "97",
         "6",
         "2.0"
        ],
        [
         "19",
         "1",
         "102",
         "9",
         "10.0"
        ],
        [
         "20",
         "1",
         "107",
         "3",
         "3.0"
        ],
        [
         "21",
         "1",
         "112",
         "2",
         "6.0"
        ],
        [
         "22",
         "1",
         "117",
         "5",
         "4.0"
        ],
        [
         "23",
         "1",
         "122",
         "4",
         "5.0"
        ],
        [
         "24",
         "1",
         "127",
         "9",
         "1.0"
        ],
        [
         "25",
         "1",
         "132",
         "4",
         "5.0"
        ],
        [
         "26",
         "1",
         "137",
         "8",
         "8.0"
        ],
        [
         "27",
         "1",
         "142",
         "5",
         "4.0"
        ],
        [
         "28",
         "1",
         "147",
         "5",
         "4.0"
        ],
        [
         "29",
         "1",
         "152",
         "6",
         "2.0"
        ],
        [
         "30",
         "1",
         "157",
         "7",
         "0.0"
        ],
        [
         "31",
         "1",
         "162",
         "0",
         "9.0"
        ],
        [
         "32",
         "1",
         "167",
         "2",
         "6.0"
        ],
        [
         "33",
         "1",
         "172",
         "7",
         "0.0"
        ],
        [
         "34",
         "1",
         "177",
         "3",
         "3.0"
        ],
        [
         "35",
         "1",
         "182",
         "9",
         "1.0"
        ],
        [
         "36",
         "1",
         "187",
         "3",
         "3.0"
        ],
        [
         "37",
         "1",
         "192",
         "9",
         "1.0"
        ],
        [
         "38",
         "1",
         "197",
         "9",
         "1.0"
        ],
        [
         "39",
         "1",
         "202",
         "5",
         "4.0"
        ],
        [
         "40",
         "1",
         "207",
         "6",
         "2.0"
        ],
        [
         "41",
         "1",
         "212",
         "2",
         "6.0"
        ],
        [
         "42",
         "1",
         "217",
         "3",
         "3.0"
        ],
        [
         "43",
         "1",
         "222",
         "1",
         "7.0"
        ],
        [
         "44",
         "1",
         "227",
         "9",
         "10.0"
        ],
        [
         "45",
         "1",
         "232",
         "9",
         "10.0"
        ],
        [
         "46",
         "1",
         "237",
         "5",
         "4.0"
        ],
        [
         "47",
         "1",
         "242",
         "1",
         "7.0"
        ],
        [
         "48",
         "1",
         "247",
         "9",
         "1.0"
        ],
        [
         "49",
         "1",
         "252",
         "0",
         "9.0"
        ]
       ],
       "shape": {
        "columns": 4,
        "rows": 100
       }
      },
      "text/html": [
       "<div>\n",
       "<style scoped>\n",
       "    .dataframe tbody tr th:only-of-type {\n",
       "        vertical-align: middle;\n",
       "    }\n",
       "\n",
       "    .dataframe tbody tr th {\n",
       "        vertical-align: top;\n",
       "    }\n",
       "\n",
       "    .dataframe thead th {\n",
       "        text-align: right;\n",
       "    }\n",
       "</style>\n",
       "<table border=\"1\" class=\"dataframe\">\n",
       "  <thead>\n",
       "    <tr style=\"text-align: right;\">\n",
       "      <th></th>\n",
       "      <th>chromosome_index</th>\n",
       "      <th>position</th>\n",
       "      <th>cluster_index</th>\n",
       "      <th>clipp2_res</th>\n",
       "    </tr>\n",
       "  </thead>\n",
       "  <tbody>\n",
       "    <tr>\n",
       "      <th>0</th>\n",
       "      <td>1</td>\n",
       "      <td>7</td>\n",
       "      <td>7</td>\n",
       "      <td>0.0</td>\n",
       "    </tr>\n",
       "    <tr>\n",
       "      <th>1</th>\n",
       "      <td>1</td>\n",
       "      <td>12</td>\n",
       "      <td>4</td>\n",
       "      <td>5.0</td>\n",
       "    </tr>\n",
       "    <tr>\n",
       "      <th>2</th>\n",
       "      <td>1</td>\n",
       "      <td>17</td>\n",
       "      <td>0</td>\n",
       "      <td>9.0</td>\n",
       "    </tr>\n",
       "    <tr>\n",
       "      <th>3</th>\n",
       "      <td>1</td>\n",
       "      <td>22</td>\n",
       "      <td>9</td>\n",
       "      <td>1.0</td>\n",
       "    </tr>\n",
       "    <tr>\n",
       "      <th>4</th>\n",
       "      <td>1</td>\n",
       "      <td>27</td>\n",
       "      <td>0</td>\n",
       "      <td>9.0</td>\n",
       "    </tr>\n",
       "    <tr>\n",
       "      <th>...</th>\n",
       "      <td>...</td>\n",
       "      <td>...</td>\n",
       "      <td>...</td>\n",
       "      <td>...</td>\n",
       "    </tr>\n",
       "    <tr>\n",
       "      <th>95</th>\n",
       "      <td>1</td>\n",
       "      <td>482</td>\n",
       "      <td>9</td>\n",
       "      <td>1.0</td>\n",
       "    </tr>\n",
       "    <tr>\n",
       "      <th>96</th>\n",
       "      <td>1</td>\n",
       "      <td>487</td>\n",
       "      <td>5</td>\n",
       "      <td>4.0</td>\n",
       "    </tr>\n",
       "    <tr>\n",
       "      <th>97</th>\n",
       "      <td>1</td>\n",
       "      <td>492</td>\n",
       "      <td>7</td>\n",
       "      <td>0.0</td>\n",
       "    </tr>\n",
       "    <tr>\n",
       "      <th>98</th>\n",
       "      <td>1</td>\n",
       "      <td>497</td>\n",
       "      <td>7</td>\n",
       "      <td>0.0</td>\n",
       "    </tr>\n",
       "    <tr>\n",
       "      <th>99</th>\n",
       "      <td>1</td>\n",
       "      <td>502</td>\n",
       "      <td>9</td>\n",
       "      <td>5.0</td>\n",
       "    </tr>\n",
       "  </tbody>\n",
       "</table>\n",
       "<p>100 rows × 4 columns</p>\n",
       "</div>"
      ],
      "text/plain": [
       "    chromosome_index  position  cluster_index  clipp2_res\n",
       "0                  1         7              7         0.0\n",
       "1                  1        12              4         5.0\n",
       "2                  1        17              0         9.0\n",
       "3                  1        22              9         1.0\n",
       "4                  1        27              0         9.0\n",
       "..               ...       ...            ...         ...\n",
       "95                 1       482              9         1.0\n",
       "96                 1       487              5         4.0\n",
       "97                 1       492              7         0.0\n",
       "98                 1       497              7         0.0\n",
       "99                 1       502              9         5.0\n",
       "\n",
       "[100 rows x 4 columns]"
      ]
     },
     "execution_count": 15,
     "metadata": {},
     "output_type": "execute_result"
    }
   ],
   "source": [
    "clip_res"
   ]
  },
  {
   "cell_type": "code",
   "execution_count": null,
   "metadata": {},
   "outputs": [],
   "source": []
  },
  {
   "cell_type": "code",
   "execution_count": null,
   "metadata": {},
   "outputs": [],
   "source": []
  },
  {
   "cell_type": "code",
   "execution_count": 43,
   "metadata": {},
   "outputs": [
    {
     "data": {
      "image/png": "[encoded data removed]",
      "text/plain": [
       "<Figure size 600x400 with 1 Axes>"
      ]
     },
     "metadata": {},
     "output_type": "display_data"
    }
   ],
   "source": [
    "import matplotlib.pyplot as plt\n",
    "\n",
    "# Your gamma values\n",
    "gamma_list = [0.01, 0.03, 0.05, 0.075, 0.1, 0.125, 0.15, 0.175, 0.2, 0.225, 0.25]\n",
    "\n",
    "# Corresponding ARI values\n",
    "ari_values = [\n",
    "    0.9821630299066532,\n",
    "    1.0,\n",
    "    0.9679453875840178,\n",
    "    1.0,\n",
    "    0.9876508890290712,\n",
    "    1.0,\n",
    "    0.9767977402509365,\n",
    "    1.0,\n",
    "    1.0,\n",
    "    0.9839144897352895,\n",
    "    1.0\n",
    "]\n",
    "\n",
    "# Create a simple line plot\n",
    "plt.figure(figsize=(6,4))\n",
    "plt.plot(gamma_list, ari_values, marker='o', linestyle='-')\n",
    "plt.title('Adjusted Rand Index vs. Gamma')\n",
    "plt.xlabel('Gamma')\n",
    "plt.ylabel('Adjusted Rand Index')\n",
    "plt.ylim([0.8, 1.02])  # just to set a clear y-range\n",
    "plt.grid(True)\n",
    "plt.show()"
   ]
  },
  {
   "cell_type": "code",
   "execution_count": null,
   "metadata": {},
   "outputs": [],
   "source": []
  }
 ],
 "metadata": {
  "kernelspec": {
   "display_name": "ml1",
   "language": "python",
   "name": "python3"
  },
  "language_info": {
   "codemirror_mode": {
    "name": "ipython",
    "version": 3
   },
   "file_extension": ".py",
   "mimetype": "text/x-python",
   "name": "python",
   "nbconvert_exporter": "python",
   "pygments_lexer": "ipython3",
   "version": "3.12.7"
  }
 },
 "nbformat": 4,
 "nbformat_minor": 2
}
